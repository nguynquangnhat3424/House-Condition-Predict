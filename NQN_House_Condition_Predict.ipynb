{
  "nbformat": 4,
  "nbformat_minor": 0,
  "metadata": {
    "colab": {
      "provenance": [],
      "collapsed_sections": [
        "C0n6jAMLtroy",
        "pUfwLeaHmBq8",
        "F9RcnSzGtzfJ",
        "x289pZpuqlzN",
        "PiUY94RjqqKZ",
        "P4kUrDzMf6TA",
        "qulpP2l6fWFq",
        "NEoOrW_l9TGB",
        "nASMYxgjtnSx",
        "Ydev1fMctjJi"
      ]
    },
    "kernelspec": {
      "name": "python3",
      "display_name": "Python 3"
    },
    "language_info": {
      "name": "python"
    }
  },
  "cells": [
    {
      "cell_type": "markdown",
      "source": [
        "# Library"
      ],
      "metadata": {
        "id": "C0n6jAMLtroy"
      }
    },
    {
      "cell_type": "code",
      "source": [
        "pip install comet_ml"
      ],
      "metadata": {
        "id": "QNrrq_0PksGm",
        "colab": {
          "base_uri": "https://localhost:8080/"
        },
        "outputId": "0e7a6aff-59a6-466d-db17-7a6cdb3ff0ae"
      },
      "execution_count": null,
      "outputs": [
        {
          "output_type": "stream",
          "name": "stdout",
          "text": [
            "Requirement already satisfied: comet_ml in /usr/local/lib/python3.10/dist-packages (3.37.0)\n",
            "Requirement already satisfied: jsonschema!=3.1.0,>=2.6.0 in /usr/local/lib/python3.10/dist-packages (from comet_ml) (4.19.2)\n",
            "Requirement already satisfied: psutil>=5.6.3 in /usr/local/lib/python3.10/dist-packages (from comet_ml) (5.9.5)\n",
            "Requirement already satisfied: python-box<7.0.0 in /usr/local/lib/python3.10/dist-packages (from comet_ml) (6.1.0)\n",
            "Requirement already satisfied: requests-toolbelt>=0.8.0 in /usr/local/lib/python3.10/dist-packages (from comet_ml) (1.0.0)\n",
            "Requirement already satisfied: requests>=2.18.4 in /usr/local/lib/python3.10/dist-packages (from comet_ml) (2.31.0)\n",
            "Requirement already satisfied: semantic-version>=2.8.0 in /usr/local/lib/python3.10/dist-packages (from comet_ml) (2.10.0)\n",
            "Requirement already satisfied: sentry-sdk>=1.1.0 in /usr/local/lib/python3.10/dist-packages (from comet_ml) (1.39.2)\n",
            "Requirement already satisfied: simplejson in /usr/local/lib/python3.10/dist-packages (from comet_ml) (3.19.2)\n",
            "Requirement already satisfied: six in /usr/local/lib/python3.10/dist-packages (from comet_ml) (1.16.0)\n",
            "Requirement already satisfied: urllib3>=1.21.1 in /usr/local/lib/python3.10/dist-packages (from comet_ml) (2.0.7)\n",
            "Requirement already satisfied: websocket-client<1.4.0,>=0.55.0 in /usr/local/lib/python3.10/dist-packages (from comet_ml) (1.3.3)\n",
            "Requirement already satisfied: wrapt>=1.11.2 in /usr/local/lib/python3.10/dist-packages (from comet_ml) (1.14.1)\n",
            "Requirement already satisfied: wurlitzer>=1.0.2 in /usr/local/lib/python3.10/dist-packages (from comet_ml) (3.0.3)\n",
            "Requirement already satisfied: everett[ini]<3.2.0,>=1.0.1 in /usr/local/lib/python3.10/dist-packages (from comet_ml) (3.1.0)\n",
            "Requirement already satisfied: dulwich!=0.20.33,>=0.20.6 in /usr/local/lib/python3.10/dist-packages (from comet_ml) (0.21.7)\n",
            "Requirement already satisfied: rich>=13.3.2 in /usr/local/lib/python3.10/dist-packages (from comet_ml) (13.7.0)\n",
            "Requirement already satisfied: configobj in /usr/local/lib/python3.10/dist-packages (from everett[ini]<3.2.0,>=1.0.1->comet_ml) (5.0.8)\n",
            "Requirement already satisfied: attrs>=22.2.0 in /usr/local/lib/python3.10/dist-packages (from jsonschema!=3.1.0,>=2.6.0->comet_ml) (23.2.0)\n",
            "Requirement already satisfied: jsonschema-specifications>=2023.03.6 in /usr/local/lib/python3.10/dist-packages (from jsonschema!=3.1.0,>=2.6.0->comet_ml) (2023.12.1)\n",
            "Requirement already satisfied: referencing>=0.28.4 in /usr/local/lib/python3.10/dist-packages (from jsonschema!=3.1.0,>=2.6.0->comet_ml) (0.32.1)\n",
            "Requirement already satisfied: rpds-py>=0.7.1 in /usr/local/lib/python3.10/dist-packages (from jsonschema!=3.1.0,>=2.6.0->comet_ml) (0.17.1)\n",
            "Requirement already satisfied: charset-normalizer<4,>=2 in /usr/local/lib/python3.10/dist-packages (from requests>=2.18.4->comet_ml) (3.3.2)\n",
            "Requirement already satisfied: idna<4,>=2.5 in /usr/local/lib/python3.10/dist-packages (from requests>=2.18.4->comet_ml) (3.6)\n",
            "Requirement already satisfied: certifi>=2017.4.17 in /usr/local/lib/python3.10/dist-packages (from requests>=2.18.4->comet_ml) (2023.11.17)\n",
            "Requirement already satisfied: markdown-it-py>=2.2.0 in /usr/local/lib/python3.10/dist-packages (from rich>=13.3.2->comet_ml) (3.0.0)\n",
            "Requirement already satisfied: pygments<3.0.0,>=2.13.0 in /usr/local/lib/python3.10/dist-packages (from rich>=13.3.2->comet_ml) (2.16.1)\n",
            "Requirement already satisfied: mdurl~=0.1 in /usr/local/lib/python3.10/dist-packages (from markdown-it-py>=2.2.0->rich>=13.3.2->comet_ml) (0.1.2)\n"
          ]
        }
      ]
    },
    {
      "cell_type": "code",
      "execution_count": null,
      "metadata": {
        "id": "sURlGF16ar7r"
      },
      "outputs": [],
      "source": [
        "import numpy as np\n",
        "import pandas as pd\n",
        "import matplotlib.pyplot as plt\n",
        "import seaborn as sns\n",
        "import math\n",
        "import warnings\n",
        "import joblib            as jlb\n",
        "warnings.filterwarnings('ignore')\n",
        "from sklearn.decomposition   import PCA\n",
        "from sklearn.preprocessing   import LabelEncoder, OneHotEncoder\n",
        "from sklearn.preprocessing   import Binarizer, PolynomialFeatures, MinMaxScaler, StandardScaler\n",
        "from sklearn.model_selection import train_test_split\n",
        "from sklearn.neighbors       import KNeighborsClassifier\n",
        "from comet_ml                import ConfusionMatrix\n",
        "from sklearn                 import metrics\n",
        "from sklearn.metrics         import accuracy_score, confusion_matrix\n",
        "from sklearn.metrics         import auc,roc_curve\n",
        "from sklearn.metrics         import precision_score, recall_score, f1_score\n",
        "from sklearn.metrics         import roc_auc_score\n",
        "from sklearn.model_selection import cross_val_score"
      ]
    },
    {
      "cell_type": "markdown",
      "source": [
        "# Preprocessing"
      ],
      "metadata": {
        "id": "pUfwLeaHmBq8"
      }
    },
    {
      "cell_type": "markdown",
      "source": [
        "##Import dataset##"
      ],
      "metadata": {
        "id": "F9RcnSzGtzfJ"
      }
    },
    {
      "cell_type": "code",
      "source": [
        "!gdown 1DZRQRJNDcnK79EU4Uhlp3TILiVM9-d9T"
      ],
      "metadata": {
        "colab": {
          "base_uri": "https://localhost:8080/"
        },
        "id": "M9UghfYVG7sc",
        "outputId": "6b45eb9e-1404-4d82-a284-14e0135e5d97"
      },
      "execution_count": null,
      "outputs": [
        {
          "output_type": "stream",
          "name": "stdout",
          "text": [
            "Downloading...\n",
            "From: https://drive.google.com/uc?id=1DZRQRJNDcnK79EU4Uhlp3TILiVM9-d9T\n",
            "To: /content/House_data.csv\n",
            "\r  0% 0.00/444k [00:00<?, ?B/s]\r100% 444k/444k [00:00<00:00, 67.9MB/s]\n"
          ]
        }
      ]
    },
    {
      "cell_type": "code",
      "source": [
        "df = pd.read_csv('House_data.csv')"
      ],
      "metadata": {
        "id": "4mh-bbiktyOA"
      },
      "execution_count": null,
      "outputs": []
    },
    {
      "cell_type": "code",
      "source": [
        "df.info()"
      ],
      "metadata": {
        "id": "eLJRva28ch6h",
        "colab": {
          "base_uri": "https://localhost:8080/"
        },
        "outputId": "dc547ec7-cc20-41f7-924f-668ff756bc8c"
      },
      "execution_count": null,
      "outputs": [
        {
          "output_type": "stream",
          "name": "stdout",
          "text": [
            "<class 'pandas.core.frame.DataFrame'>\n",
            "RangeIndex: 1460 entries, 0 to 1459\n",
            "Data columns (total 81 columns):\n",
            " #   Column         Non-Null Count  Dtype  \n",
            "---  ------         --------------  -----  \n",
            " 0   Id             1460 non-null   int64  \n",
            " 1   MSSubClass     1460 non-null   int64  \n",
            " 2   MSZoning       1460 non-null   object \n",
            " 3   LotFrontage    1201 non-null   float64\n",
            " 4   LotArea        1460 non-null   int64  \n",
            " 5   Street         1460 non-null   object \n",
            " 6   Alley          91 non-null     object \n",
            " 7   LotShape       1460 non-null   object \n",
            " 8   LandContour    1460 non-null   object \n",
            " 9   Utilities      1460 non-null   object \n",
            " 10  LotConfig      1460 non-null   object \n",
            " 11  LandSlope      1460 non-null   object \n",
            " 12  Neighborhood   1460 non-null   object \n",
            " 13  Condition1     1460 non-null   object \n",
            " 14  Condition2     1460 non-null   object \n",
            " 15  BldgType       1460 non-null   object \n",
            " 16  HouseStyle     1460 non-null   object \n",
            " 17  OverallQual    1460 non-null   int64  \n",
            " 18  OverallCond    1460 non-null   int64  \n",
            " 19  YearBuilt      1460 non-null   int64  \n",
            " 20  YearRemodAdd   1460 non-null   int64  \n",
            " 21  RoofStyle      1460 non-null   object \n",
            " 22  RoofMatl       1460 non-null   object \n",
            " 23  Exterior1st    1460 non-null   object \n",
            " 24  Exterior2nd    1460 non-null   object \n",
            " 25  MasVnrType     1452 non-null   object \n",
            " 26  MasVnrArea     1452 non-null   float64\n",
            " 27  ExterQual      1460 non-null   object \n",
            " 28  ExterCond      1460 non-null   object \n",
            " 29  Foundation     1460 non-null   object \n",
            " 30  BsmtQual       1423 non-null   object \n",
            " 31  BsmtCond       1423 non-null   object \n",
            " 32  BsmtExposure   1422 non-null   object \n",
            " 33  BsmtFinType1   1423 non-null   object \n",
            " 34  BsmtFinSF1     1460 non-null   int64  \n",
            " 35  BsmtFinType2   1422 non-null   object \n",
            " 36  BsmtFinSF2     1460 non-null   int64  \n",
            " 37  BsmtUnfSF      1460 non-null   int64  \n",
            " 38  TotalBsmtSF    1460 non-null   int64  \n",
            " 39  Heating        1460 non-null   object \n",
            " 40  HeatingQC      1460 non-null   object \n",
            " 41  CentralAir     1460 non-null   object \n",
            " 42  Electrical     1459 non-null   object \n",
            " 43  1stFlrSF       1460 non-null   int64  \n",
            " 44  2ndFlrSF       1460 non-null   int64  \n",
            " 45  LowQualFinSF   1460 non-null   int64  \n",
            " 46  GrLivArea      1460 non-null   int64  \n",
            " 47  BsmtFullBath   1460 non-null   int64  \n",
            " 48  BsmtHalfBath   1460 non-null   int64  \n",
            " 49  FullBath       1460 non-null   int64  \n",
            " 50  HalfBath       1460 non-null   int64  \n",
            " 51  BedroomAbvGr   1460 non-null   int64  \n",
            " 52  KitchenAbvGr   1460 non-null   int64  \n",
            " 53  KitchenQual    1460 non-null   object \n",
            " 54  TotRmsAbvGrd   1460 non-null   int64  \n",
            " 55  Functional     1460 non-null   object \n",
            " 56  Fireplaces     1460 non-null   int64  \n",
            " 57  FireplaceQu    770 non-null    object \n",
            " 58  GarageType     1379 non-null   object \n",
            " 59  GarageYrBlt    1379 non-null   float64\n",
            " 60  GarageFinish   1379 non-null   object \n",
            " 61  GarageCars     1460 non-null   int64  \n",
            " 62  GarageArea     1460 non-null   int64  \n",
            " 63  GarageQual     1379 non-null   object \n",
            " 64  GarageCond     1379 non-null   object \n",
            " 65  PavedDrive     1460 non-null   object \n",
            " 66  WoodDeckSF     1460 non-null   int64  \n",
            " 67  OpenPorchSF    1460 non-null   int64  \n",
            " 68  EnclosedPorch  1460 non-null   int64  \n",
            " 69  3SsnPorch      1460 non-null   int64  \n",
            " 70  ScreenPorch    1460 non-null   int64  \n",
            " 71  PoolArea       1460 non-null   int64  \n",
            " 72  PoolQC         7 non-null      object \n",
            " 73  Fence          281 non-null    object \n",
            " 74  MiscFeature    54 non-null     object \n",
            " 75  MiscVal        1460 non-null   int64  \n",
            " 76  MoSold         1460 non-null   int64  \n",
            " 77  YrSold         1460 non-null   int64  \n",
            " 78  SaleType       1460 non-null   object \n",
            " 79  SalePrice      1460 non-null   int64  \n",
            " 80  Condition      1460 non-null   object \n",
            "dtypes: float64(3), int64(35), object(43)\n",
            "memory usage: 924.0+ KB\n"
          ]
        }
      ]
    },
    {
      "cell_type": "code",
      "source": [
        "df"
      ],
      "metadata": {
        "colab": {
          "base_uri": "https://localhost:8080/",
          "height": 443
        },
        "id": "zXkEdZx9psqI",
        "outputId": "ae561611-614b-4624-fd99-8fc456b0e734"
      },
      "execution_count": null,
      "outputs": [
        {
          "output_type": "execute_result",
          "data": {
            "text/plain": [
              "        Id  MSSubClass MSZoning  LotFrontage  LotArea Street Alley LotShape  \\\n",
              "0        1          60       RL         65.0     8450   Pave   NaN      Reg   \n",
              "1        2          20       RL         80.0     9600   Pave   NaN      Reg   \n",
              "2        3          60       RL         68.0    11250   Pave   NaN      IR1   \n",
              "3        4          70       RL         60.0     9550   Pave   NaN      IR1   \n",
              "4        5          60       RL         84.0    14260   Pave   NaN      IR1   \n",
              "...    ...         ...      ...          ...      ...    ...   ...      ...   \n",
              "1455  1456          60       RL         62.0     7917   Pave   NaN      Reg   \n",
              "1456  1457          20       RL         85.0    13175   Pave   NaN      Reg   \n",
              "1457  1458          70       RL         66.0     9042   Pave   NaN      Reg   \n",
              "1458  1459          20       RL         68.0     9717   Pave   NaN      Reg   \n",
              "1459  1460          20       RL         75.0     9937   Pave   NaN      Reg   \n",
              "\n",
              "     LandContour Utilities  ... PoolArea PoolQC  Fence MiscFeature MiscVal  \\\n",
              "0            Lvl    AllPub  ...        0    NaN    NaN         NaN       0   \n",
              "1            Lvl    AllPub  ...        0    NaN    NaN         NaN       0   \n",
              "2            Lvl    AllPub  ...        0    NaN    NaN         NaN       0   \n",
              "3            Lvl    AllPub  ...        0    NaN    NaN         NaN       0   \n",
              "4            Lvl    AllPub  ...        0    NaN    NaN         NaN       0   \n",
              "...          ...       ...  ...      ...    ...    ...         ...     ...   \n",
              "1455         Lvl    AllPub  ...        0    NaN    NaN         NaN       0   \n",
              "1456         Lvl    AllPub  ...        0    NaN  MnPrv         NaN       0   \n",
              "1457         Lvl    AllPub  ...        0    NaN  GdPrv        Shed    2500   \n",
              "1458         Lvl    AllPub  ...        0    NaN    NaN         NaN       0   \n",
              "1459         Lvl    AllPub  ...        0    NaN    NaN         NaN       0   \n",
              "\n",
              "     MoSold YrSold  SaleType  SalePrice  Condition  \n",
              "0         2   2008        WD     208500        NOR  \n",
              "1         5   2007        WD     181500        NOR  \n",
              "2         9   2008        WD     223500        NOR  \n",
              "3         2   2006        WD     140000        ABN  \n",
              "4        12   2008        WD     250000        NOR  \n",
              "...     ...    ...       ...        ...        ...  \n",
              "1455      8   2007        WD     175000        NOR  \n",
              "1456      2   2010        WD     210000        NOR  \n",
              "1457      5   2010        WD     266500        NOR  \n",
              "1458      4   2010        WD     142125        NOR  \n",
              "1459      6   2008        WD     147500        NOR  \n",
              "\n",
              "[1460 rows x 81 columns]"
            ],
            "text/html": [
              "\n",
              "  <div id=\"df-f2283e1a-306d-4dec-82c6-46394bc9e3e9\" class=\"colab-df-container\">\n",
              "    <div>\n",
              "<style scoped>\n",
              "    .dataframe tbody tr th:only-of-type {\n",
              "        vertical-align: middle;\n",
              "    }\n",
              "\n",
              "    .dataframe tbody tr th {\n",
              "        vertical-align: top;\n",
              "    }\n",
              "\n",
              "    .dataframe thead th {\n",
              "        text-align: right;\n",
              "    }\n",
              "</style>\n",
              "<table border=\"1\" class=\"dataframe\">\n",
              "  <thead>\n",
              "    <tr style=\"text-align: right;\">\n",
              "      <th></th>\n",
              "      <th>Id</th>\n",
              "      <th>MSSubClass</th>\n",
              "      <th>MSZoning</th>\n",
              "      <th>LotFrontage</th>\n",
              "      <th>LotArea</th>\n",
              "      <th>Street</th>\n",
              "      <th>Alley</th>\n",
              "      <th>LotShape</th>\n",
              "      <th>LandContour</th>\n",
              "      <th>Utilities</th>\n",
              "      <th>...</th>\n",
              "      <th>PoolArea</th>\n",
              "      <th>PoolQC</th>\n",
              "      <th>Fence</th>\n",
              "      <th>MiscFeature</th>\n",
              "      <th>MiscVal</th>\n",
              "      <th>MoSold</th>\n",
              "      <th>YrSold</th>\n",
              "      <th>SaleType</th>\n",
              "      <th>SalePrice</th>\n",
              "      <th>Condition</th>\n",
              "    </tr>\n",
              "  </thead>\n",
              "  <tbody>\n",
              "    <tr>\n",
              "      <th>0</th>\n",
              "      <td>1</td>\n",
              "      <td>60</td>\n",
              "      <td>RL</td>\n",
              "      <td>65.0</td>\n",
              "      <td>8450</td>\n",
              "      <td>Pave</td>\n",
              "      <td>NaN</td>\n",
              "      <td>Reg</td>\n",
              "      <td>Lvl</td>\n",
              "      <td>AllPub</td>\n",
              "      <td>...</td>\n",
              "      <td>0</td>\n",
              "      <td>NaN</td>\n",
              "      <td>NaN</td>\n",
              "      <td>NaN</td>\n",
              "      <td>0</td>\n",
              "      <td>2</td>\n",
              "      <td>2008</td>\n",
              "      <td>WD</td>\n",
              "      <td>208500</td>\n",
              "      <td>NOR</td>\n",
              "    </tr>\n",
              "    <tr>\n",
              "      <th>1</th>\n",
              "      <td>2</td>\n",
              "      <td>20</td>\n",
              "      <td>RL</td>\n",
              "      <td>80.0</td>\n",
              "      <td>9600</td>\n",
              "      <td>Pave</td>\n",
              "      <td>NaN</td>\n",
              "      <td>Reg</td>\n",
              "      <td>Lvl</td>\n",
              "      <td>AllPub</td>\n",
              "      <td>...</td>\n",
              "      <td>0</td>\n",
              "      <td>NaN</td>\n",
              "      <td>NaN</td>\n",
              "      <td>NaN</td>\n",
              "      <td>0</td>\n",
              "      <td>5</td>\n",
              "      <td>2007</td>\n",
              "      <td>WD</td>\n",
              "      <td>181500</td>\n",
              "      <td>NOR</td>\n",
              "    </tr>\n",
              "    <tr>\n",
              "      <th>2</th>\n",
              "      <td>3</td>\n",
              "      <td>60</td>\n",
              "      <td>RL</td>\n",
              "      <td>68.0</td>\n",
              "      <td>11250</td>\n",
              "      <td>Pave</td>\n",
              "      <td>NaN</td>\n",
              "      <td>IR1</td>\n",
              "      <td>Lvl</td>\n",
              "      <td>AllPub</td>\n",
              "      <td>...</td>\n",
              "      <td>0</td>\n",
              "      <td>NaN</td>\n",
              "      <td>NaN</td>\n",
              "      <td>NaN</td>\n",
              "      <td>0</td>\n",
              "      <td>9</td>\n",
              "      <td>2008</td>\n",
              "      <td>WD</td>\n",
              "      <td>223500</td>\n",
              "      <td>NOR</td>\n",
              "    </tr>\n",
              "    <tr>\n",
              "      <th>3</th>\n",
              "      <td>4</td>\n",
              "      <td>70</td>\n",
              "      <td>RL</td>\n",
              "      <td>60.0</td>\n",
              "      <td>9550</td>\n",
              "      <td>Pave</td>\n",
              "      <td>NaN</td>\n",
              "      <td>IR1</td>\n",
              "      <td>Lvl</td>\n",
              "      <td>AllPub</td>\n",
              "      <td>...</td>\n",
              "      <td>0</td>\n",
              "      <td>NaN</td>\n",
              "      <td>NaN</td>\n",
              "      <td>NaN</td>\n",
              "      <td>0</td>\n",
              "      <td>2</td>\n",
              "      <td>2006</td>\n",
              "      <td>WD</td>\n",
              "      <td>140000</td>\n",
              "      <td>ABN</td>\n",
              "    </tr>\n",
              "    <tr>\n",
              "      <th>4</th>\n",
              "      <td>5</td>\n",
              "      <td>60</td>\n",
              "      <td>RL</td>\n",
              "      <td>84.0</td>\n",
              "      <td>14260</td>\n",
              "      <td>Pave</td>\n",
              "      <td>NaN</td>\n",
              "      <td>IR1</td>\n",
              "      <td>Lvl</td>\n",
              "      <td>AllPub</td>\n",
              "      <td>...</td>\n",
              "      <td>0</td>\n",
              "      <td>NaN</td>\n",
              "      <td>NaN</td>\n",
              "      <td>NaN</td>\n",
              "      <td>0</td>\n",
              "      <td>12</td>\n",
              "      <td>2008</td>\n",
              "      <td>WD</td>\n",
              "      <td>250000</td>\n",
              "      <td>NOR</td>\n",
              "    </tr>\n",
              "    <tr>\n",
              "      <th>...</th>\n",
              "      <td>...</td>\n",
              "      <td>...</td>\n",
              "      <td>...</td>\n",
              "      <td>...</td>\n",
              "      <td>...</td>\n",
              "      <td>...</td>\n",
              "      <td>...</td>\n",
              "      <td>...</td>\n",
              "      <td>...</td>\n",
              "      <td>...</td>\n",
              "      <td>...</td>\n",
              "      <td>...</td>\n",
              "      <td>...</td>\n",
              "      <td>...</td>\n",
              "      <td>...</td>\n",
              "      <td>...</td>\n",
              "      <td>...</td>\n",
              "      <td>...</td>\n",
              "      <td>...</td>\n",
              "      <td>...</td>\n",
              "      <td>...</td>\n",
              "    </tr>\n",
              "    <tr>\n",
              "      <th>1455</th>\n",
              "      <td>1456</td>\n",
              "      <td>60</td>\n",
              "      <td>RL</td>\n",
              "      <td>62.0</td>\n",
              "      <td>7917</td>\n",
              "      <td>Pave</td>\n",
              "      <td>NaN</td>\n",
              "      <td>Reg</td>\n",
              "      <td>Lvl</td>\n",
              "      <td>AllPub</td>\n",
              "      <td>...</td>\n",
              "      <td>0</td>\n",
              "      <td>NaN</td>\n",
              "      <td>NaN</td>\n",
              "      <td>NaN</td>\n",
              "      <td>0</td>\n",
              "      <td>8</td>\n",
              "      <td>2007</td>\n",
              "      <td>WD</td>\n",
              "      <td>175000</td>\n",
              "      <td>NOR</td>\n",
              "    </tr>\n",
              "    <tr>\n",
              "      <th>1456</th>\n",
              "      <td>1457</td>\n",
              "      <td>20</td>\n",
              "      <td>RL</td>\n",
              "      <td>85.0</td>\n",
              "      <td>13175</td>\n",
              "      <td>Pave</td>\n",
              "      <td>NaN</td>\n",
              "      <td>Reg</td>\n",
              "      <td>Lvl</td>\n",
              "      <td>AllPub</td>\n",
              "      <td>...</td>\n",
              "      <td>0</td>\n",
              "      <td>NaN</td>\n",
              "      <td>MnPrv</td>\n",
              "      <td>NaN</td>\n",
              "      <td>0</td>\n",
              "      <td>2</td>\n",
              "      <td>2010</td>\n",
              "      <td>WD</td>\n",
              "      <td>210000</td>\n",
              "      <td>NOR</td>\n",
              "    </tr>\n",
              "    <tr>\n",
              "      <th>1457</th>\n",
              "      <td>1458</td>\n",
              "      <td>70</td>\n",
              "      <td>RL</td>\n",
              "      <td>66.0</td>\n",
              "      <td>9042</td>\n",
              "      <td>Pave</td>\n",
              "      <td>NaN</td>\n",
              "      <td>Reg</td>\n",
              "      <td>Lvl</td>\n",
              "      <td>AllPub</td>\n",
              "      <td>...</td>\n",
              "      <td>0</td>\n",
              "      <td>NaN</td>\n",
              "      <td>GdPrv</td>\n",
              "      <td>Shed</td>\n",
              "      <td>2500</td>\n",
              "      <td>5</td>\n",
              "      <td>2010</td>\n",
              "      <td>WD</td>\n",
              "      <td>266500</td>\n",
              "      <td>NOR</td>\n",
              "    </tr>\n",
              "    <tr>\n",
              "      <th>1458</th>\n",
              "      <td>1459</td>\n",
              "      <td>20</td>\n",
              "      <td>RL</td>\n",
              "      <td>68.0</td>\n",
              "      <td>9717</td>\n",
              "      <td>Pave</td>\n",
              "      <td>NaN</td>\n",
              "      <td>Reg</td>\n",
              "      <td>Lvl</td>\n",
              "      <td>AllPub</td>\n",
              "      <td>...</td>\n",
              "      <td>0</td>\n",
              "      <td>NaN</td>\n",
              "      <td>NaN</td>\n",
              "      <td>NaN</td>\n",
              "      <td>0</td>\n",
              "      <td>4</td>\n",
              "      <td>2010</td>\n",
              "      <td>WD</td>\n",
              "      <td>142125</td>\n",
              "      <td>NOR</td>\n",
              "    </tr>\n",
              "    <tr>\n",
              "      <th>1459</th>\n",
              "      <td>1460</td>\n",
              "      <td>20</td>\n",
              "      <td>RL</td>\n",
              "      <td>75.0</td>\n",
              "      <td>9937</td>\n",
              "      <td>Pave</td>\n",
              "      <td>NaN</td>\n",
              "      <td>Reg</td>\n",
              "      <td>Lvl</td>\n",
              "      <td>AllPub</td>\n",
              "      <td>...</td>\n",
              "      <td>0</td>\n",
              "      <td>NaN</td>\n",
              "      <td>NaN</td>\n",
              "      <td>NaN</td>\n",
              "      <td>0</td>\n",
              "      <td>6</td>\n",
              "      <td>2008</td>\n",
              "      <td>WD</td>\n",
              "      <td>147500</td>\n",
              "      <td>NOR</td>\n",
              "    </tr>\n",
              "  </tbody>\n",
              "</table>\n",
              "<p>1460 rows × 81 columns</p>\n",
              "</div>\n",
              "    <div class=\"colab-df-buttons\">\n",
              "\n",
              "  <div class=\"colab-df-container\">\n",
              "    <button class=\"colab-df-convert\" onclick=\"convertToInteractive('df-f2283e1a-306d-4dec-82c6-46394bc9e3e9')\"\n",
              "            title=\"Convert this dataframe to an interactive table.\"\n",
              "            style=\"display:none;\">\n",
              "\n",
              "  <svg xmlns=\"http://www.w3.org/2000/svg\" height=\"24px\" viewBox=\"0 -960 960 960\">\n",
              "    <path d=\"M120-120v-720h720v720H120Zm60-500h600v-160H180v160Zm220 220h160v-160H400v160Zm0 220h160v-160H400v160ZM180-400h160v-160H180v160Zm440 0h160v-160H620v160ZM180-180h160v-160H180v160Zm440 0h160v-160H620v160Z\"/>\n",
              "  </svg>\n",
              "    </button>\n",
              "\n",
              "  <style>\n",
              "    .colab-df-container {\n",
              "      display:flex;\n",
              "      gap: 12px;\n",
              "    }\n",
              "\n",
              "    .colab-df-convert {\n",
              "      background-color: #E8F0FE;\n",
              "      border: none;\n",
              "      border-radius: 50%;\n",
              "      cursor: pointer;\n",
              "      display: none;\n",
              "      fill: #1967D2;\n",
              "      height: 32px;\n",
              "      padding: 0 0 0 0;\n",
              "      width: 32px;\n",
              "    }\n",
              "\n",
              "    .colab-df-convert:hover {\n",
              "      background-color: #E2EBFA;\n",
              "      box-shadow: 0px 1px 2px rgba(60, 64, 67, 0.3), 0px 1px 3px 1px rgba(60, 64, 67, 0.15);\n",
              "      fill: #174EA6;\n",
              "    }\n",
              "\n",
              "    .colab-df-buttons div {\n",
              "      margin-bottom: 4px;\n",
              "    }\n",
              "\n",
              "    [theme=dark] .colab-df-convert {\n",
              "      background-color: #3B4455;\n",
              "      fill: #D2E3FC;\n",
              "    }\n",
              "\n",
              "    [theme=dark] .colab-df-convert:hover {\n",
              "      background-color: #434B5C;\n",
              "      box-shadow: 0px 1px 3px 1px rgba(0, 0, 0, 0.15);\n",
              "      filter: drop-shadow(0px 1px 2px rgba(0, 0, 0, 0.3));\n",
              "      fill: #FFFFFF;\n",
              "    }\n",
              "  </style>\n",
              "\n",
              "    <script>\n",
              "      const buttonEl =\n",
              "        document.querySelector('#df-f2283e1a-306d-4dec-82c6-46394bc9e3e9 button.colab-df-convert');\n",
              "      buttonEl.style.display =\n",
              "        google.colab.kernel.accessAllowed ? 'block' : 'none';\n",
              "\n",
              "      async function convertToInteractive(key) {\n",
              "        const element = document.querySelector('#df-f2283e1a-306d-4dec-82c6-46394bc9e3e9');\n",
              "        const dataTable =\n",
              "          await google.colab.kernel.invokeFunction('convertToInteractive',\n",
              "                                                    [key], {});\n",
              "        if (!dataTable) return;\n",
              "\n",
              "        const docLinkHtml = 'Like what you see? Visit the ' +\n",
              "          '<a target=\"_blank\" href=https://colab.research.google.com/notebooks/data_table.ipynb>data table notebook</a>'\n",
              "          + ' to learn more about interactive tables.';\n",
              "        element.innerHTML = '';\n",
              "        dataTable['output_type'] = 'display_data';\n",
              "        await google.colab.output.renderOutput(dataTable, element);\n",
              "        const docLink = document.createElement('div');\n",
              "        docLink.innerHTML = docLinkHtml;\n",
              "        element.appendChild(docLink);\n",
              "      }\n",
              "    </script>\n",
              "  </div>\n",
              "\n",
              "\n",
              "<div id=\"df-4f302c08-dd73-440e-8e8d-06ceb8623912\">\n",
              "  <button class=\"colab-df-quickchart\" onclick=\"quickchart('df-4f302c08-dd73-440e-8e8d-06ceb8623912')\"\n",
              "            title=\"Suggest charts\"\n",
              "            style=\"display:none;\">\n",
              "\n",
              "<svg xmlns=\"http://www.w3.org/2000/svg\" height=\"24px\"viewBox=\"0 0 24 24\"\n",
              "     width=\"24px\">\n",
              "    <g>\n",
              "        <path d=\"M19 3H5c-1.1 0-2 .9-2 2v14c0 1.1.9 2 2 2h14c1.1 0 2-.9 2-2V5c0-1.1-.9-2-2-2zM9 17H7v-7h2v7zm4 0h-2V7h2v10zm4 0h-2v-4h2v4z\"/>\n",
              "    </g>\n",
              "</svg>\n",
              "  </button>\n",
              "\n",
              "<style>\n",
              "  .colab-df-quickchart {\n",
              "      --bg-color: #E8F0FE;\n",
              "      --fill-color: #1967D2;\n",
              "      --hover-bg-color: #E2EBFA;\n",
              "      --hover-fill-color: #174EA6;\n",
              "      --disabled-fill-color: #AAA;\n",
              "      --disabled-bg-color: #DDD;\n",
              "  }\n",
              "\n",
              "  [theme=dark] .colab-df-quickchart {\n",
              "      --bg-color: #3B4455;\n",
              "      --fill-color: #D2E3FC;\n",
              "      --hover-bg-color: #434B5C;\n",
              "      --hover-fill-color: #FFFFFF;\n",
              "      --disabled-bg-color: #3B4455;\n",
              "      --disabled-fill-color: #666;\n",
              "  }\n",
              "\n",
              "  .colab-df-quickchart {\n",
              "    background-color: var(--bg-color);\n",
              "    border: none;\n",
              "    border-radius: 50%;\n",
              "    cursor: pointer;\n",
              "    display: none;\n",
              "    fill: var(--fill-color);\n",
              "    height: 32px;\n",
              "    padding: 0;\n",
              "    width: 32px;\n",
              "  }\n",
              "\n",
              "  .colab-df-quickchart:hover {\n",
              "    background-color: var(--hover-bg-color);\n",
              "    box-shadow: 0 1px 2px rgba(60, 64, 67, 0.3), 0 1px 3px 1px rgba(60, 64, 67, 0.15);\n",
              "    fill: var(--button-hover-fill-color);\n",
              "  }\n",
              "\n",
              "  .colab-df-quickchart-complete:disabled,\n",
              "  .colab-df-quickchart-complete:disabled:hover {\n",
              "    background-color: var(--disabled-bg-color);\n",
              "    fill: var(--disabled-fill-color);\n",
              "    box-shadow: none;\n",
              "  }\n",
              "\n",
              "  .colab-df-spinner {\n",
              "    border: 2px solid var(--fill-color);\n",
              "    border-color: transparent;\n",
              "    border-bottom-color: var(--fill-color);\n",
              "    animation:\n",
              "      spin 1s steps(1) infinite;\n",
              "  }\n",
              "\n",
              "  @keyframes spin {\n",
              "    0% {\n",
              "      border-color: transparent;\n",
              "      border-bottom-color: var(--fill-color);\n",
              "      border-left-color: var(--fill-color);\n",
              "    }\n",
              "    20% {\n",
              "      border-color: transparent;\n",
              "      border-left-color: var(--fill-color);\n",
              "      border-top-color: var(--fill-color);\n",
              "    }\n",
              "    30% {\n",
              "      border-color: transparent;\n",
              "      border-left-color: var(--fill-color);\n",
              "      border-top-color: var(--fill-color);\n",
              "      border-right-color: var(--fill-color);\n",
              "    }\n",
              "    40% {\n",
              "      border-color: transparent;\n",
              "      border-right-color: var(--fill-color);\n",
              "      border-top-color: var(--fill-color);\n",
              "    }\n",
              "    60% {\n",
              "      border-color: transparent;\n",
              "      border-right-color: var(--fill-color);\n",
              "    }\n",
              "    80% {\n",
              "      border-color: transparent;\n",
              "      border-right-color: var(--fill-color);\n",
              "      border-bottom-color: var(--fill-color);\n",
              "    }\n",
              "    90% {\n",
              "      border-color: transparent;\n",
              "      border-bottom-color: var(--fill-color);\n",
              "    }\n",
              "  }\n",
              "</style>\n",
              "\n",
              "  <script>\n",
              "    async function quickchart(key) {\n",
              "      const quickchartButtonEl =\n",
              "        document.querySelector('#' + key + ' button');\n",
              "      quickchartButtonEl.disabled = true;  // To prevent multiple clicks.\n",
              "      quickchartButtonEl.classList.add('colab-df-spinner');\n",
              "      try {\n",
              "        const charts = await google.colab.kernel.invokeFunction(\n",
              "            'suggestCharts', [key], {});\n",
              "      } catch (error) {\n",
              "        console.error('Error during call to suggestCharts:', error);\n",
              "      }\n",
              "      quickchartButtonEl.classList.remove('colab-df-spinner');\n",
              "      quickchartButtonEl.classList.add('colab-df-quickchart-complete');\n",
              "    }\n",
              "    (() => {\n",
              "      let quickchartButtonEl =\n",
              "        document.querySelector('#df-4f302c08-dd73-440e-8e8d-06ceb8623912 button');\n",
              "      quickchartButtonEl.style.display =\n",
              "        google.colab.kernel.accessAllowed ? 'block' : 'none';\n",
              "    })();\n",
              "  </script>\n",
              "</div>\n",
              "\n",
              "  <div id=\"id_b38f0427-66bf-48b7-9c50-af02989ae2a8\">\n",
              "    <style>\n",
              "      .colab-df-generate {\n",
              "        background-color: #E8F0FE;\n",
              "        border: none;\n",
              "        border-radius: 50%;\n",
              "        cursor: pointer;\n",
              "        display: none;\n",
              "        fill: #1967D2;\n",
              "        height: 32px;\n",
              "        padding: 0 0 0 0;\n",
              "        width: 32px;\n",
              "      }\n",
              "\n",
              "      .colab-df-generate:hover {\n",
              "        background-color: #E2EBFA;\n",
              "        box-shadow: 0px 1px 2px rgba(60, 64, 67, 0.3), 0px 1px 3px 1px rgba(60, 64, 67, 0.15);\n",
              "        fill: #174EA6;\n",
              "      }\n",
              "\n",
              "      [theme=dark] .colab-df-generate {\n",
              "        background-color: #3B4455;\n",
              "        fill: #D2E3FC;\n",
              "      }\n",
              "\n",
              "      [theme=dark] .colab-df-generate:hover {\n",
              "        background-color: #434B5C;\n",
              "        box-shadow: 0px 1px 3px 1px rgba(0, 0, 0, 0.15);\n",
              "        filter: drop-shadow(0px 1px 2px rgba(0, 0, 0, 0.3));\n",
              "        fill: #FFFFFF;\n",
              "      }\n",
              "    </style>\n",
              "    <button class=\"colab-df-generate\" onclick=\"generateWithVariable('df')\"\n",
              "            title=\"Generate code using this dataframe.\"\n",
              "            style=\"display:none;\">\n",
              "\n",
              "  <svg xmlns=\"http://www.w3.org/2000/svg\" height=\"24px\"viewBox=\"0 0 24 24\"\n",
              "       width=\"24px\">\n",
              "    <path d=\"M7,19H8.4L18.45,9,17,7.55,7,17.6ZM5,21V16.75L18.45,3.32a2,2,0,0,1,2.83,0l1.4,1.43a1.91,1.91,0,0,1,.58,1.4,1.91,1.91,0,0,1-.58,1.4L9.25,21ZM18.45,9,17,7.55Zm-12,3A5.31,5.31,0,0,0,4.9,8.1,5.31,5.31,0,0,0,1,6.5,5.31,5.31,0,0,0,4.9,4.9,5.31,5.31,0,0,0,6.5,1,5.31,5.31,0,0,0,8.1,4.9,5.31,5.31,0,0,0,12,6.5,5.46,5.46,0,0,0,6.5,12Z\"/>\n",
              "  </svg>\n",
              "    </button>\n",
              "    <script>\n",
              "      (() => {\n",
              "      const buttonEl =\n",
              "        document.querySelector('#id_b38f0427-66bf-48b7-9c50-af02989ae2a8 button.colab-df-generate');\n",
              "      buttonEl.style.display =\n",
              "        google.colab.kernel.accessAllowed ? 'block' : 'none';\n",
              "\n",
              "      buttonEl.onclick = () => {\n",
              "        google.colab.notebook.generateWithVariable('df');\n",
              "      }\n",
              "      })();\n",
              "    </script>\n",
              "  </div>\n",
              "\n",
              "    </div>\n",
              "  </div>\n"
            ]
          },
          "metadata": {},
          "execution_count": 80
        }
      ]
    },
    {
      "cell_type": "markdown",
      "source": [
        "##Missing values##"
      ],
      "metadata": {
        "id": "x289pZpuqlzN"
      }
    },
    {
      "cell_type": "code",
      "source": [
        "null_counts = df.isnull().sum()\n",
        "print(null_counts[null_counts > 0])"
      ],
      "metadata": {
        "colab": {
          "base_uri": "https://localhost:8080/"
        },
        "id": "aDkTAD3IkunH",
        "outputId": "0a717d88-3df0-4199-af10-707b30896a19"
      },
      "execution_count": null,
      "outputs": [
        {
          "output_type": "stream",
          "name": "stdout",
          "text": [
            "LotFrontage      259\n",
            "Alley           1369\n",
            "MasVnrType         8\n",
            "MasVnrArea         8\n",
            "BsmtQual          37\n",
            "BsmtCond          37\n",
            "BsmtExposure      38\n",
            "BsmtFinType1      37\n",
            "BsmtFinType2      38\n",
            "Electrical         1\n",
            "FireplaceQu      690\n",
            "GarageType        81\n",
            "GarageYrBlt       81\n",
            "GarageFinish      81\n",
            "GarageQual        81\n",
            "GarageCond        81\n",
            "PoolQC          1453\n",
            "Fence           1179\n",
            "MiscFeature     1406\n",
            "dtype: int64\n"
          ]
        }
      ]
    },
    {
      "cell_type": "code",
      "source": [
        "df = df.drop(columns=['Alley', 'PoolQC', 'Fence', 'MiscFeature'])"
      ],
      "metadata": {
        "id": "GsZkvqA1pQ6Y"
      },
      "execution_count": null,
      "outputs": []
    },
    {
      "cell_type": "code",
      "source": [
        "df['FireplaceQu'] = df['FireplaceQu'].fillna(\"N/A\")\n",
        "df['Electrical'] = df['Electrical'].fillna(\"N/A\")"
      ],
      "metadata": {
        "id": "IBblbkZAlmcI"
      },
      "execution_count": null,
      "outputs": []
    },
    {
      "cell_type": "code",
      "source": [
        "garage_columns = df.filter(like='Garage')\n",
        "for column in garage_columns.columns:\n",
        "  if column != 'GarageYrBlt':\n",
        "    df[column].fillna(\"N/A\", inplace=True)\n",
        "  else:\n",
        "    mode_value = df[column].mode()[0]\n",
        "    df[column].fillna(mode_value, inplace=True)"
      ],
      "metadata": {
        "id": "BarV4MEimW78"
      },
      "execution_count": null,
      "outputs": []
    },
    {
      "cell_type": "code",
      "source": [
        "bsmt_columns = df.filter(like='Bsmt')\n",
        "df[bsmt_columns.columns] = bsmt_columns.fillna(\"N/A\")"
      ],
      "metadata": {
        "id": "qaqvqdXYlva8"
      },
      "execution_count": null,
      "outputs": []
    },
    {
      "cell_type": "code",
      "source": [
        "masvnr_columns = df.filter(like='MasVnr')\n",
        "for column in masvnr_columns.columns:\n",
        "    mode_value = df[column].mode()[0]\n",
        "    df[column].fillna(mode_value, inplace=True)"
      ],
      "metadata": {
        "id": "E6B6dC8KmD3g"
      },
      "execution_count": null,
      "outputs": []
    },
    {
      "cell_type": "code",
      "source": [
        "df['LotFrontage_new'] = df.LotFrontage.interpolate()\n",
        "df.drop(columns = 'LotFrontage', inplace = True)"
      ],
      "metadata": {
        "id": "MhoMQ4f4pay2"
      },
      "execution_count": null,
      "outputs": []
    },
    {
      "cell_type": "code",
      "source": [],
      "metadata": {
        "id": "vcccsTJQjhjS"
      },
      "execution_count": null,
      "outputs": []
    },
    {
      "cell_type": "markdown",
      "source": [
        "##Noisy data##"
      ],
      "metadata": {
        "id": "PiUY94RjqqKZ"
      }
    },
    {
      "cell_type": "code",
      "source": [
        "def basigma(col, df):\n",
        "  lech3sigma_tren = round(df[col].mean() + 3 * df[col].std(ddof = 1))\n",
        "  lech3sigma_duoi = round(df[col].mean() - 3 * df[col].std(ddof = 1))\n",
        "  df_filter = df[(df[col] > lech3sigma_tren) | (df[col] < lech3sigma_duoi)]\n",
        "  if df_filter[col].count() > 0:\n",
        "    print(f'Cột {i} có {df_filter[col].count()} giá trị nhiễu là các giá trị ngoài khoảng ({lech3sigma_duoi}, {lech3sigma_tren})')\n",
        "    # print(sorted(df_filter[col].unique()))\n",
        "\n",
        "  # thay thế nhiễu bằng trung vị\n",
        "  trungvi = df[col].median()\n",
        "  df.loc[(df[col] > lech3sigma_tren) | (df[col] < lech3sigma_duoi), col] = trungvi"
      ],
      "metadata": {
        "id": "DL4qiAabuIQU"
      },
      "execution_count": null,
      "outputs": []
    },
    {
      "cell_type": "code",
      "source": [
        "print('Thay thế nhiễu bằng trung vị ở các cột sau')\n",
        "for i in df.select_dtypes(include = 'number').columns:\n",
        "  basigma(i, df)"
      ],
      "metadata": {
        "colab": {
          "base_uri": "https://localhost:8080/"
        },
        "id": "neq4I8gkuiOX",
        "outputId": "aa40f840-5f76-426b-d3f2-b3471729e9cb"
      },
      "execution_count": null,
      "outputs": [
        {
          "output_type": "stream",
          "name": "stdout",
          "text": [
            "Thay thế nhiễu bằng trung vị ở các cột sau\n",
            "Cột MSSubClass có 30 giá trị nhiễu là các giá trị ngoài khoảng (-70, 184)\n",
            "Cột LotArea có 13 giá trị nhiễu là các giá trị ngoài khoảng (-19427, 40461)\n",
            "Cột OverallQual có 2 giá trị nhiễu là các giá trị ngoài khoảng (2, 10)\n",
            "Cột OverallCond có 1 giá trị nhiễu là các giá trị ngoài khoảng (2, 9)\n",
            "Cột YearBuilt có 6 giá trị nhiễu là các giá trị ngoài khoảng (1881, 2062)\n",
            "Cột MasVnrArea có 32 giá trị nhiễu là các giá trị ngoài khoảng (-439, 645)\n",
            "Cột BsmtFinSF1 có 6 giá trị nhiễu là các giá trị ngoài khoảng (-925, 1812)\n",
            "Cột BsmtFinSF2 có 49 giá trị nhiễu là các giá trị ngoài khoảng (-437, 531)\n",
            "Cột BsmtUnfSF có 11 giá trị nhiễu là các giá trị ngoài khoảng (-758, 1893)\n",
            "Cột TotalBsmtSF có 10 giá trị nhiễu là các giá trị ngoài khoảng (-259, 2374)\n",
            "Cột 1stFlrSF có 12 giá trị nhiễu là các giá trị ngoài khoảng (3, 2322)\n",
            "Cột 2ndFlrSF có 4 giá trị nhiễu là các giá trị ngoài khoảng (-963, 1657)\n",
            "Cột LowQualFinSF có 20 giá trị nhiễu là các giá trị ngoài khoảng (-140, 152)\n",
            "Cột GrLivArea có 16 giá trị nhiễu là các giá trị ngoài khoảng (-61, 3092)\n",
            "Cột BsmtFullBath có 1 giá trị nhiễu là các giá trị ngoài khoảng (-1, 2)\n",
            "Cột BsmtHalfBath có 2 giá trị nhiễu là các giá trị ngoài khoảng (-1, 1)\n",
            "Cột BedroomAbvGr có 8 giá trị nhiễu là các giá trị ngoài khoảng (0, 5)\n",
            "Cột KitchenAbvGr có 2 giá trị nhiễu là các giá trị ngoài khoảng (0, 2)\n",
            "Cột TotRmsAbvGrd có 12 giá trị nhiễu là các giá trị ngoài khoảng (2, 11)\n",
            "Cột GarageYrBlt có 1 giá trị nhiễu là các giá trị ngoài khoảng (1906, 2054)\n",
            "Cột GarageArea có 7 giá trị nhiễu là các giá trị ngoài khoảng (-168, 1114)\n",
            "Cột WoodDeckSF có 22 giá trị nhiễu là các giá trị ngoài khoảng (-282, 470)\n",
            "Cột OpenPorchSF có 27 giá trị nhiễu là các giá trị ngoài khoảng (-152, 245)\n",
            "Cột EnclosedPorch có 51 giá trị nhiễu là các giá trị ngoài khoảng (-161, 205)\n",
            "Cột 3SsnPorch có 23 giá trị nhiễu là các giá trị ngoài khoảng (-85, 91)\n",
            "Cột ScreenPorch có 55 giá trị nhiễu là các giá trị ngoài khoảng (-152, 182)\n",
            "Cột PoolArea có 7 giá trị nhiễu là các giá trị ngoài khoảng (-118, 123)\n",
            "Cột MiscVal có 8 giá trị nhiễu là các giá trị ngoài khoảng (-1445, 1532)\n",
            "Cột SalePrice có 22 giá trị nhiễu là các giá trị ngoài khoảng (-57406, 419249)\n",
            "Cột LotFrontage_new có 14 giá trị nhiễu là các giá trị ngoài khoảng (1, 139)\n"
          ]
        }
      ]
    },
    {
      "cell_type": "markdown",
      "source": [
        "##Selection##"
      ],
      "metadata": {
        "id": "P4kUrDzMf6TA"
      }
    },
    {
      "cell_type": "code",
      "source": [
        "df = df.drop(columns = 'Id')"
      ],
      "metadata": {
        "id": "c1D1FW85mITE"
      },
      "execution_count": null,
      "outputs": []
    },
    {
      "cell_type": "markdown",
      "source": [
        "**Loại bỏ các cột phân loại có độ biến thiên yếu**"
      ],
      "metadata": {
        "id": "Iz1fFamjt9E5"
      }
    },
    {
      "cell_type": "code",
      "source": [
        "def check(col, df):\n",
        "  group = df.groupby(col)['LotArea'].count()\n",
        "  group = pd.DataFrame(group.reset_index())\n",
        "  dieukien = (group['LotArea'].sum() - group['LotArea'].max())  / group['LotArea'].max()\n",
        "  if dieukien < 0.2:\n",
        "    df.drop(columns = col, inplace = True)"
      ],
      "metadata": {
        "id": "0gJvH9IOgAGv"
      },
      "execution_count": null,
      "outputs": []
    },
    {
      "cell_type": "code",
      "source": [
        "for i in df.select_dtypes(include = 'object').columns:\n",
        "  if i != 'Condition':\n",
        "    check(i,df)"
      ],
      "metadata": {
        "id": "sGag82A6gBnA"
      },
      "execution_count": null,
      "outputs": []
    },
    {
      "cell_type": "markdown",
      "source": [
        "##Transform##"
      ],
      "metadata": {
        "id": "qulpP2l6fWFq"
      }
    },
    {
      "cell_type": "code",
      "source": [
        "def onehot(col, df):\n",
        "  if col != 'Condition':\n",
        "    enc = OneHotEncoder(sparse = False) # dạng\n",
        "    df_enc = pd.DataFrame(enc.fit_transform(df[[col]]), columns = df[col].unique())\n",
        "    df.drop(columns = col, inplace = True)\n",
        "    df_combined = pd.concat([df, df_enc], axis=1)\n",
        "    return df_combined"
      ],
      "metadata": {
        "id": "1z3FWedmfUyY"
      },
      "execution_count": null,
      "outputs": []
    },
    {
      "cell_type": "code",
      "source": [
        "def label(col, df):\n",
        "  if col != 'Condition':\n",
        "    enc = LabelEncoder()\n",
        "    df[str(col)+'_new']  = pd.Series(enc.fit_transform(df[col]))\n",
        "    df.drop(columns = col, inplace = True)\n",
        "    mappings = {index: label for index, label in enumerate(enc.classes_)}\n",
        "    print(mappings)"
      ],
      "metadata": {
        "id": "5fyqBSOtflgw"
      },
      "execution_count": null,
      "outputs": []
    },
    {
      "cell_type": "code",
      "source": [
        "for i in df.select_dtypes(include = ['object']).columns:\n",
        "  if len(df[i].unique()) < 6:\n",
        "    df = onehot(i, df)\n",
        "  else:\n",
        "    label(i,df)"
      ],
      "metadata": {
        "colab": {
          "base_uri": "https://localhost:8080/"
        },
        "id": "dB3OBy2_fm0f",
        "outputId": "240b0233-989c-4f57-b225-f44c90c926e1"
      },
      "execution_count": null,
      "outputs": [
        {
          "output_type": "stream",
          "name": "stdout",
          "text": [
            "{0: 'Blmngtn', 1: 'Blueste', 2: 'BrDale', 3: 'BrkSide', 4: 'ClearCr', 5: 'CollgCr', 6: 'Crawfor', 7: 'Edwards', 8: 'Gilbert', 9: 'IDOTRR', 10: 'MeadowV', 11: 'Mitchel', 12: 'NAmes', 13: 'NPkVill', 14: 'NWAmes', 15: 'NoRidge', 16: 'NridgHt', 17: 'OldTown', 18: 'SWISU', 19: 'Sawyer', 20: 'SawyerW', 21: 'Somerst', 22: 'StoneBr', 23: 'Timber', 24: 'Veenker'}\n",
            "{0: '1.5Fin', 1: '1.5Unf', 2: '1Story', 3: '2.5Fin', 4: '2.5Unf', 5: '2Story', 6: 'SFoyer', 7: 'SLvl'}\n",
            "{0: 'Flat', 1: 'Gable', 2: 'Gambrel', 3: 'Hip', 4: 'Mansard', 5: 'Shed'}\n",
            "{0: 'AsbShng', 1: 'AsphShn', 2: 'BrkComm', 3: 'BrkFace', 4: 'CBlock', 5: 'CemntBd', 6: 'HdBoard', 7: 'ImStucc', 8: 'MetalSd', 9: 'Plywood', 10: 'Stone', 11: 'Stucco', 12: 'VinylSd', 13: 'Wd Sdng', 14: 'WdShing'}\n",
            "{0: 'AsbShng', 1: 'AsphShn', 2: 'Brk Cmn', 3: 'BrkFace', 4: 'CBlock', 5: 'CmentBd', 6: 'HdBoard', 7: 'ImStucc', 8: 'MetalSd', 9: 'Other', 10: 'Plywood', 11: 'Stone', 12: 'Stucco', 13: 'VinylSd', 14: 'Wd Sdng', 15: 'Wd Shng'}\n",
            "{0: 'BrkTil', 1: 'CBlock', 2: 'PConc', 3: 'Slab', 4: 'Stone', 5: 'Wood'}\n",
            "{0: 'ALQ', 1: 'BLQ', 2: 'GLQ', 3: 'LwQ', 4: 'N/A', 5: 'Rec', 6: 'Unf'}\n",
            "{0: 'Ex', 1: 'Fa', 2: 'Gd', 3: 'N/A', 4: 'Po', 5: 'TA'}\n",
            "{0: '2Types', 1: 'Attchd', 2: 'Basment', 3: 'BuiltIn', 4: 'CarPort', 5: 'Detchd', 6: 'N/A'}\n"
          ]
        }
      ]
    },
    {
      "cell_type": "markdown",
      "source": [
        "##Dimension reduction##"
      ],
      "metadata": {
        "id": "NEoOrW_l9TGB"
      }
    },
    {
      "cell_type": "markdown",
      "source": [
        "\n",
        "> Tìm số chiều cần giảm đến\n"
      ],
      "metadata": {
        "id": "xrqJ8T9T9jeD"
      }
    },
    {
      "cell_type": "code",
      "source": [
        "df_drop = df.drop(columns = 'Condition')"
      ],
      "metadata": {
        "id": "kXvCwBPQvtlX"
      },
      "execution_count": null,
      "outputs": []
    },
    {
      "cell_type": "code",
      "source": [
        "pca = PCA().fit(df_drop)\n",
        "nb_features = df_drop.shape[1] - 1"
      ],
      "metadata": {
        "id": "O38mVfSd9SRa"
      },
      "execution_count": null,
      "outputs": []
    },
    {
      "cell_type": "code",
      "source": [
        "var = 0.0\n",
        "for k in range(1, nb_features + 1):\n",
        "    pca = PCA(k)\n",
        "    pca.fit(df_drop)\n",
        "\n",
        "    newVar = pca.explained_variance_ratio_.sum() * 100\n",
        "    print('   * k = %2d' %k, ': phương sai tích lũy ~ %.2f%%' %newVar,\n",
        "          '--> tăng ~ %.2f%%' %(newVar - var))\n",
        "    var = newVar"
      ],
      "metadata": {
        "colab": {
          "base_uri": "https://localhost:8080/"
        },
        "id": "ByFPgZA__Wzh",
        "outputId": "c8bfd499-d7b5-4627-d1a7-41dd7c01adbf"
      },
      "execution_count": null,
      "outputs": [
        {
          "output_type": "stream",
          "name": "stdout",
          "text": [
            "   * k =  1 : phương sai tích lũy ~ 99.60% --> tăng ~ 99.60%\n",
            "   * k =  2 : phương sai tích lũy ~ 99.98% --> tăng ~ 0.38%\n",
            "   * k =  3 : phương sai tích lũy ~ 99.99% --> tăng ~ 0.01%\n",
            "   * k =  4 : phương sai tích lũy ~ 99.99% --> tăng ~ 0.01%\n",
            "   * k =  5 : phương sai tích lũy ~ 100.00% --> tăng ~ 0.00%\n",
            "   * k =  6 : phương sai tích lũy ~ 100.00% --> tăng ~ 0.00%\n",
            "   * k =  7 : phương sai tích lũy ~ 100.00% --> tăng ~ 0.00%\n",
            "   * k =  8 : phương sai tích lũy ~ 100.00% --> tăng ~ 0.00%\n",
            "   * k =  9 : phương sai tích lũy ~ 100.00% --> tăng ~ 0.00%\n",
            "   * k = 10 : phương sai tích lũy ~ 100.00% --> tăng ~ 0.00%\n",
            "   * k = 11 : phương sai tích lũy ~ 100.00% --> tăng ~ 0.00%\n",
            "   * k = 12 : phương sai tích lũy ~ 100.00% --> tăng ~ 0.00%\n",
            "   * k = 13 : phương sai tích lũy ~ 100.00% --> tăng ~ 0.00%\n",
            "   * k = 14 : phương sai tích lũy ~ 100.00% --> tăng ~ 0.00%\n",
            "   * k = 15 : phương sai tích lũy ~ 100.00% --> tăng ~ 0.00%\n",
            "   * k = 16 : phương sai tích lũy ~ 100.00% --> tăng ~ 0.00%\n",
            "   * k = 17 : phương sai tích lũy ~ 100.00% --> tăng ~ 0.00%\n",
            "   * k = 18 : phương sai tích lũy ~ 100.00% --> tăng ~ 0.00%\n",
            "   * k = 19 : phương sai tích lũy ~ 100.00% --> tăng ~ 0.00%\n",
            "   * k = 20 : phương sai tích lũy ~ 100.00% --> tăng ~ 0.00%\n",
            "   * k = 21 : phương sai tích lũy ~ 100.00% --> tăng ~ 0.00%\n",
            "   * k = 22 : phương sai tích lũy ~ 100.00% --> tăng ~ 0.00%\n",
            "   * k = 23 : phương sai tích lũy ~ 100.00% --> tăng ~ 0.00%\n",
            "   * k = 24 : phương sai tích lũy ~ 100.00% --> tăng ~ 0.00%\n",
            "   * k = 25 : phương sai tích lũy ~ 100.00% --> tăng ~ 0.00%\n",
            "   * k = 26 : phương sai tích lũy ~ 100.00% --> tăng ~ 0.00%\n",
            "   * k = 27 : phương sai tích lũy ~ 100.00% --> tăng ~ 0.00%\n",
            "   * k = 28 : phương sai tích lũy ~ 100.00% --> tăng ~ 0.00%\n",
            "   * k = 29 : phương sai tích lũy ~ 100.00% --> tăng ~ 0.00%\n",
            "   * k = 30 : phương sai tích lũy ~ 100.00% --> tăng ~ 0.00%\n",
            "   * k = 31 : phương sai tích lũy ~ 100.00% --> tăng ~ 0.00%\n",
            "   * k = 32 : phương sai tích lũy ~ 100.00% --> tăng ~ 0.00%\n",
            "   * k = 33 : phương sai tích lũy ~ 100.00% --> tăng ~ 0.00%\n",
            "   * k = 34 : phương sai tích lũy ~ 100.00% --> tăng ~ 0.00%\n",
            "   * k = 35 : phương sai tích lũy ~ 100.00% --> tăng ~ 0.00%\n",
            "   * k = 36 : phương sai tích lũy ~ 100.00% --> tăng ~ 0.00%\n",
            "   * k = 37 : phương sai tích lũy ~ 100.00% --> tăng ~ 0.00%\n",
            "   * k = 38 : phương sai tích lũy ~ 100.00% --> tăng ~ 0.00%\n",
            "   * k = 39 : phương sai tích lũy ~ 100.00% --> tăng ~ 0.00%\n",
            "   * k = 40 : phương sai tích lũy ~ 100.00% --> tăng ~ 0.00%\n",
            "   * k = 41 : phương sai tích lũy ~ 100.00% --> tăng ~ 0.00%\n",
            "   * k = 42 : phương sai tích lũy ~ 100.00% --> tăng ~ 0.00%\n",
            "   * k = 43 : phương sai tích lũy ~ 100.00% --> tăng ~ 0.00%\n",
            "   * k = 44 : phương sai tích lũy ~ 100.00% --> tăng ~ 0.00%\n",
            "   * k = 45 : phương sai tích lũy ~ 100.00% --> tăng ~ 0.00%\n",
            "   * k = 46 : phương sai tích lũy ~ 100.00% --> tăng ~ 0.00%\n",
            "   * k = 47 : phương sai tích lũy ~ 100.00% --> tăng ~ 0.00%\n",
            "   * k = 48 : phương sai tích lũy ~ 100.00% --> tăng ~ 0.00%\n",
            "   * k = 49 : phương sai tích lũy ~ 100.00% --> tăng ~ 0.00%\n",
            "   * k = 50 : phương sai tích lũy ~ 100.00% --> tăng ~ 0.00%\n",
            "   * k = 51 : phương sai tích lũy ~ 100.00% --> tăng ~ 0.00%\n",
            "   * k = 52 : phương sai tích lũy ~ 100.00% --> tăng ~ 0.00%\n",
            "   * k = 53 : phương sai tích lũy ~ 100.00% --> tăng ~ 0.00%\n",
            "   * k = 54 : phương sai tích lũy ~ 100.00% --> tăng ~ 0.00%\n",
            "   * k = 55 : phương sai tích lũy ~ 100.00% --> tăng ~ 0.00%\n",
            "   * k = 56 : phương sai tích lũy ~ 100.00% --> tăng ~ 0.00%\n",
            "   * k = 57 : phương sai tích lũy ~ 100.00% --> tăng ~ 0.00%\n",
            "   * k = 58 : phương sai tích lũy ~ 100.00% --> tăng ~ 0.00%\n",
            "   * k = 59 : phương sai tích lũy ~ 100.00% --> tăng ~ 0.00%\n",
            "   * k = 60 : phương sai tích lũy ~ 100.00% --> tăng ~ 0.00%\n",
            "   * k = 61 : phương sai tích lũy ~ 100.00% --> tăng ~ 0.00%\n",
            "   * k = 62 : phương sai tích lũy ~ 100.00% --> tăng ~ 0.00%\n",
            "   * k = 63 : phương sai tích lũy ~ 100.00% --> tăng ~ 0.00%\n",
            "   * k = 64 : phương sai tích lũy ~ 100.00% --> tăng ~ 0.00%\n",
            "   * k = 65 : phương sai tích lũy ~ 100.00% --> tăng ~ 0.00%\n",
            "   * k = 66 : phương sai tích lũy ~ 100.00% --> tăng ~ 0.00%\n",
            "   * k = 67 : phương sai tích lũy ~ 100.00% --> tăng ~ 0.00%\n",
            "   * k = 68 : phương sai tích lũy ~ 100.00% --> tăng ~ 0.00%\n",
            "   * k = 69 : phương sai tích lũy ~ 100.00% --> tăng ~ 0.00%\n",
            "   * k = 70 : phương sai tích lũy ~ 100.00% --> tăng ~ 0.00%\n",
            "   * k = 71 : phương sai tích lũy ~ 100.00% --> tăng ~ 0.00%\n",
            "   * k = 72 : phương sai tích lũy ~ 100.00% --> tăng ~ 0.00%\n",
            "   * k = 73 : phương sai tích lũy ~ 100.00% --> tăng ~ 0.00%\n",
            "   * k = 74 : phương sai tích lũy ~ 100.00% --> tăng ~ 0.00%\n",
            "   * k = 75 : phương sai tích lũy ~ 100.00% --> tăng ~ 0.00%\n",
            "   * k = 76 : phương sai tích lũy ~ 100.00% --> tăng ~ 0.00%\n",
            "   * k = 77 : phương sai tích lũy ~ 100.00% --> tăng ~ 0.00%\n",
            "   * k = 78 : phương sai tích lũy ~ 100.00% --> tăng ~ 0.00%\n",
            "   * k = 79 : phương sai tích lũy ~ 100.00% --> tăng ~ 0.00%\n",
            "   * k = 80 : phương sai tích lũy ~ 100.00% --> tăng ~ 0.00%\n",
            "   * k = 81 : phương sai tích lũy ~ 100.00% --> tăng ~ 0.00%\n",
            "   * k = 82 : phương sai tích lũy ~ 100.00% --> tăng ~ 0.00%\n",
            "   * k = 83 : phương sai tích lũy ~ 100.00% --> tăng ~ 0.00%\n",
            "   * k = 84 : phương sai tích lũy ~ 100.00% --> tăng ~ 0.00%\n",
            "   * k = 85 : phương sai tích lũy ~ 100.00% --> tăng ~ 0.00%\n",
            "   * k = 86 : phương sai tích lũy ~ 100.00% --> tăng ~ 0.00%\n",
            "   * k = 87 : phương sai tích lũy ~ 100.00% --> tăng ~ 0.00%\n",
            "   * k = 88 : phương sai tích lũy ~ 100.00% --> tăng ~ 0.00%\n",
            "   * k = 89 : phương sai tích lũy ~ 100.00% --> tăng ~ 0.00%\n",
            "   * k = 90 : phương sai tích lũy ~ 100.00% --> tăng ~ 0.00%\n"
          ]
        }
      ]
    },
    {
      "cell_type": "markdown",
      "source": [
        "\n",
        "\n",
        "**Chọn k = 5**\n",
        "\n"
      ],
      "metadata": {
        "id": "0s2nwXSFAZnX"
      }
    },
    {
      "cell_type": "code",
      "source": [
        "data_norm = pd.DataFrame(StandardScaler().fit_transform(df_drop)) # tự động loại cột Class\n",
        "\n",
        "## Áp dụng PCA\n",
        "pca = PCA(n_components = 5)\n",
        "pca.fit(data_norm)"
      ],
      "metadata": {
        "colab": {
          "base_uri": "https://localhost:8080/"
        },
        "id": "7gY448ec_6mW",
        "outputId": "2eb415fc-9a1b-41ab-e6ec-00bc339e9741"
      },
      "execution_count": null,
      "outputs": [
        {
          "output_type": "execute_result",
          "data": {
            "text/plain": [
              "PCA(n_components=5)"
            ],
            "text/html": [
              "<style>#sk-container-id-5 {color: black;background-color: white;}#sk-container-id-5 pre{padding: 0;}#sk-container-id-5 div.sk-toggleable {background-color: white;}#sk-container-id-5 label.sk-toggleable__label {cursor: pointer;display: block;width: 100%;margin-bottom: 0;padding: 0.3em;box-sizing: border-box;text-align: center;}#sk-container-id-5 label.sk-toggleable__label-arrow:before {content: \"▸\";float: left;margin-right: 0.25em;color: #696969;}#sk-container-id-5 label.sk-toggleable__label-arrow:hover:before {color: black;}#sk-container-id-5 div.sk-estimator:hover label.sk-toggleable__label-arrow:before {color: black;}#sk-container-id-5 div.sk-toggleable__content {max-height: 0;max-width: 0;overflow: hidden;text-align: left;background-color: #f0f8ff;}#sk-container-id-5 div.sk-toggleable__content pre {margin: 0.2em;color: black;border-radius: 0.25em;background-color: #f0f8ff;}#sk-container-id-5 input.sk-toggleable__control:checked~div.sk-toggleable__content {max-height: 200px;max-width: 100%;overflow: auto;}#sk-container-id-5 input.sk-toggleable__control:checked~label.sk-toggleable__label-arrow:before {content: \"▾\";}#sk-container-id-5 div.sk-estimator input.sk-toggleable__control:checked~label.sk-toggleable__label {background-color: #d4ebff;}#sk-container-id-5 div.sk-label input.sk-toggleable__control:checked~label.sk-toggleable__label {background-color: #d4ebff;}#sk-container-id-5 input.sk-hidden--visually {border: 0;clip: rect(1px 1px 1px 1px);clip: rect(1px, 1px, 1px, 1px);height: 1px;margin: -1px;overflow: hidden;padding: 0;position: absolute;width: 1px;}#sk-container-id-5 div.sk-estimator {font-family: monospace;background-color: #f0f8ff;border: 1px dotted black;border-radius: 0.25em;box-sizing: border-box;margin-bottom: 0.5em;}#sk-container-id-5 div.sk-estimator:hover {background-color: #d4ebff;}#sk-container-id-5 div.sk-parallel-item::after {content: \"\";width: 100%;border-bottom: 1px solid gray;flex-grow: 1;}#sk-container-id-5 div.sk-label:hover label.sk-toggleable__label {background-color: #d4ebff;}#sk-container-id-5 div.sk-serial::before {content: \"\";position: absolute;border-left: 1px solid gray;box-sizing: border-box;top: 0;bottom: 0;left: 50%;z-index: 0;}#sk-container-id-5 div.sk-serial {display: flex;flex-direction: column;align-items: center;background-color: white;padding-right: 0.2em;padding-left: 0.2em;position: relative;}#sk-container-id-5 div.sk-item {position: relative;z-index: 1;}#sk-container-id-5 div.sk-parallel {display: flex;align-items: stretch;justify-content: center;background-color: white;position: relative;}#sk-container-id-5 div.sk-item::before, #sk-container-id-5 div.sk-parallel-item::before {content: \"\";position: absolute;border-left: 1px solid gray;box-sizing: border-box;top: 0;bottom: 0;left: 50%;z-index: -1;}#sk-container-id-5 div.sk-parallel-item {display: flex;flex-direction: column;z-index: 1;position: relative;background-color: white;}#sk-container-id-5 div.sk-parallel-item:first-child::after {align-self: flex-end;width: 50%;}#sk-container-id-5 div.sk-parallel-item:last-child::after {align-self: flex-start;width: 50%;}#sk-container-id-5 div.sk-parallel-item:only-child::after {width: 0;}#sk-container-id-5 div.sk-dashed-wrapped {border: 1px dashed gray;margin: 0 0.4em 0.5em 0.4em;box-sizing: border-box;padding-bottom: 0.4em;background-color: white;}#sk-container-id-5 div.sk-label label {font-family: monospace;font-weight: bold;display: inline-block;line-height: 1.2em;}#sk-container-id-5 div.sk-label-container {text-align: center;}#sk-container-id-5 div.sk-container {/* jupyter's `normalize.less` sets `[hidden] { display: none; }` but bootstrap.min.css set `[hidden] { display: none !important; }` so we also need the `!important` here to be able to override the default hidden behavior on the sphinx rendered scikit-learn.org. See: https://github.com/scikit-learn/scikit-learn/issues/21755 */display: inline-block !important;position: relative;}#sk-container-id-5 div.sk-text-repr-fallback {display: none;}</style><div id=\"sk-container-id-5\" class=\"sk-top-container\"><div class=\"sk-text-repr-fallback\"><pre>PCA(n_components=5)</pre><b>In a Jupyter environment, please rerun this cell to show the HTML representation or trust the notebook. <br />On GitHub, the HTML representation is unable to render, please try loading this page with nbviewer.org.</b></div><div class=\"sk-container\" hidden><div class=\"sk-item\"><div class=\"sk-estimator sk-toggleable\"><input class=\"sk-toggleable__control sk-hidden--visually\" id=\"sk-estimator-id-5\" type=\"checkbox\" checked><label for=\"sk-estimator-id-5\" class=\"sk-toggleable__label sk-toggleable__label-arrow\">PCA</label><div class=\"sk-toggleable__content\"><pre>PCA(n_components=5)</pre></div></div></div></div></div>"
            ]
          },
          "metadata": {},
          "execution_count": 99
        }
      ]
    },
    {
      "cell_type": "code",
      "source": [
        "B = pca.transform(data_norm)\n",
        "df_pca = pd.DataFrame(B, columns = ['PC1', 'PC2', 'PC3', 'PC4', 'PC5'])\n",
        "df_combined = pd.concat([df_pca, df.Condition], axis=1)\n",
        "df_combined.head()"
      ],
      "metadata": {
        "colab": {
          "base_uri": "https://localhost:8080/"
        },
        "id": "SBaFGWBZBNxP",
        "outputId": "7224fd06-d08e-4739-f66a-d309b7a2ed37"
      },
      "execution_count": null,
      "outputs": [
        {
          "output_type": "execute_result",
          "data": {
            "text/plain": [
              "        PC1       PC2       PC3       PC4       PC5 Condition\n",
              "0  3.354954  2.480342 -0.457747 -1.779032  0.535988       NOR\n",
              "1  0.350617 -2.218229 -1.636814 -1.859659 -0.542116       NOR\n",
              "2  4.101108  1.569868 -0.464637 -2.810664 -0.896718       NOR\n",
              "3 -1.302402 -0.457290  1.478352 -0.736675 -1.569816       ABN\n",
              "4  6.400934  0.439191  1.137185 -3.305372 -0.394818       NOR"
            ],
            "text/html": [
              "\n",
              "  <div id=\"df-51cfa8bf-0603-4d41-92a5-fa16efbeec7d\" class=\"colab-df-container\">\n",
              "    <div>\n",
              "<style scoped>\n",
              "    .dataframe tbody tr th:only-of-type {\n",
              "        vertical-align: middle;\n",
              "    }\n",
              "\n",
              "    .dataframe tbody tr th {\n",
              "        vertical-align: top;\n",
              "    }\n",
              "\n",
              "    .dataframe thead th {\n",
              "        text-align: right;\n",
              "    }\n",
              "</style>\n",
              "<table border=\"1\" class=\"dataframe\">\n",
              "  <thead>\n",
              "    <tr style=\"text-align: right;\">\n",
              "      <th></th>\n",
              "      <th>PC1</th>\n",
              "      <th>PC2</th>\n",
              "      <th>PC3</th>\n",
              "      <th>PC4</th>\n",
              "      <th>PC5</th>\n",
              "      <th>Condition</th>\n",
              "    </tr>\n",
              "  </thead>\n",
              "  <tbody>\n",
              "    <tr>\n",
              "      <th>0</th>\n",
              "      <td>3.354954</td>\n",
              "      <td>2.480342</td>\n",
              "      <td>-0.457747</td>\n",
              "      <td>-1.779032</td>\n",
              "      <td>0.535988</td>\n",
              "      <td>NOR</td>\n",
              "    </tr>\n",
              "    <tr>\n",
              "      <th>1</th>\n",
              "      <td>0.350617</td>\n",
              "      <td>-2.218229</td>\n",
              "      <td>-1.636814</td>\n",
              "      <td>-1.859659</td>\n",
              "      <td>-0.542116</td>\n",
              "      <td>NOR</td>\n",
              "    </tr>\n",
              "    <tr>\n",
              "      <th>2</th>\n",
              "      <td>4.101108</td>\n",
              "      <td>1.569868</td>\n",
              "      <td>-0.464637</td>\n",
              "      <td>-2.810664</td>\n",
              "      <td>-0.896718</td>\n",
              "      <td>NOR</td>\n",
              "    </tr>\n",
              "    <tr>\n",
              "      <th>3</th>\n",
              "      <td>-1.302402</td>\n",
              "      <td>-0.457290</td>\n",
              "      <td>1.478352</td>\n",
              "      <td>-0.736675</td>\n",
              "      <td>-1.569816</td>\n",
              "      <td>ABN</td>\n",
              "    </tr>\n",
              "    <tr>\n",
              "      <th>4</th>\n",
              "      <td>6.400934</td>\n",
              "      <td>0.439191</td>\n",
              "      <td>1.137185</td>\n",
              "      <td>-3.305372</td>\n",
              "      <td>-0.394818</td>\n",
              "      <td>NOR</td>\n",
              "    </tr>\n",
              "  </tbody>\n",
              "</table>\n",
              "</div>\n",
              "    <div class=\"colab-df-buttons\">\n",
              "\n",
              "  <div class=\"colab-df-container\">\n",
              "    <button class=\"colab-df-convert\" onclick=\"convertToInteractive('df-51cfa8bf-0603-4d41-92a5-fa16efbeec7d')\"\n",
              "            title=\"Convert this dataframe to an interactive table.\"\n",
              "            style=\"display:none;\">\n",
              "\n",
              "  <svg xmlns=\"http://www.w3.org/2000/svg\" height=\"24px\" viewBox=\"0 -960 960 960\">\n",
              "    <path d=\"M120-120v-720h720v720H120Zm60-500h600v-160H180v160Zm220 220h160v-160H400v160Zm0 220h160v-160H400v160ZM180-400h160v-160H180v160Zm440 0h160v-160H620v160ZM180-180h160v-160H180v160Zm440 0h160v-160H620v160Z\"/>\n",
              "  </svg>\n",
              "    </button>\n",
              "\n",
              "  <style>\n",
              "    .colab-df-container {\n",
              "      display:flex;\n",
              "      gap: 12px;\n",
              "    }\n",
              "\n",
              "    .colab-df-convert {\n",
              "      background-color: #E8F0FE;\n",
              "      border: none;\n",
              "      border-radius: 50%;\n",
              "      cursor: pointer;\n",
              "      display: none;\n",
              "      fill: #1967D2;\n",
              "      height: 32px;\n",
              "      padding: 0 0 0 0;\n",
              "      width: 32px;\n",
              "    }\n",
              "\n",
              "    .colab-df-convert:hover {\n",
              "      background-color: #E2EBFA;\n",
              "      box-shadow: 0px 1px 2px rgba(60, 64, 67, 0.3), 0px 1px 3px 1px rgba(60, 64, 67, 0.15);\n",
              "      fill: #174EA6;\n",
              "    }\n",
              "\n",
              "    .colab-df-buttons div {\n",
              "      margin-bottom: 4px;\n",
              "    }\n",
              "\n",
              "    [theme=dark] .colab-df-convert {\n",
              "      background-color: #3B4455;\n",
              "      fill: #D2E3FC;\n",
              "    }\n",
              "\n",
              "    [theme=dark] .colab-df-convert:hover {\n",
              "      background-color: #434B5C;\n",
              "      box-shadow: 0px 1px 3px 1px rgba(0, 0, 0, 0.15);\n",
              "      filter: drop-shadow(0px 1px 2px rgba(0, 0, 0, 0.3));\n",
              "      fill: #FFFFFF;\n",
              "    }\n",
              "  </style>\n",
              "\n",
              "    <script>\n",
              "      const buttonEl =\n",
              "        document.querySelector('#df-51cfa8bf-0603-4d41-92a5-fa16efbeec7d button.colab-df-convert');\n",
              "      buttonEl.style.display =\n",
              "        google.colab.kernel.accessAllowed ? 'block' : 'none';\n",
              "\n",
              "      async function convertToInteractive(key) {\n",
              "        const element = document.querySelector('#df-51cfa8bf-0603-4d41-92a5-fa16efbeec7d');\n",
              "        const dataTable =\n",
              "          await google.colab.kernel.invokeFunction('convertToInteractive',\n",
              "                                                    [key], {});\n",
              "        if (!dataTable) return;\n",
              "\n",
              "        const docLinkHtml = 'Like what you see? Visit the ' +\n",
              "          '<a target=\"_blank\" href=https://colab.research.google.com/notebooks/data_table.ipynb>data table notebook</a>'\n",
              "          + ' to learn more about interactive tables.';\n",
              "        element.innerHTML = '';\n",
              "        dataTable['output_type'] = 'display_data';\n",
              "        await google.colab.output.renderOutput(dataTable, element);\n",
              "        const docLink = document.createElement('div');\n",
              "        docLink.innerHTML = docLinkHtml;\n",
              "        element.appendChild(docLink);\n",
              "      }\n",
              "    </script>\n",
              "  </div>\n",
              "\n",
              "\n",
              "<div id=\"df-1eef1619-46e5-46c8-bd48-0c8bc1ae21e7\">\n",
              "  <button class=\"colab-df-quickchart\" onclick=\"quickchart('df-1eef1619-46e5-46c8-bd48-0c8bc1ae21e7')\"\n",
              "            title=\"Suggest charts\"\n",
              "            style=\"display:none;\">\n",
              "\n",
              "<svg xmlns=\"http://www.w3.org/2000/svg\" height=\"24px\"viewBox=\"0 0 24 24\"\n",
              "     width=\"24px\">\n",
              "    <g>\n",
              "        <path d=\"M19 3H5c-1.1 0-2 .9-2 2v14c0 1.1.9 2 2 2h14c1.1 0 2-.9 2-2V5c0-1.1-.9-2-2-2zM9 17H7v-7h2v7zm4 0h-2V7h2v10zm4 0h-2v-4h2v4z\"/>\n",
              "    </g>\n",
              "</svg>\n",
              "  </button>\n",
              "\n",
              "<style>\n",
              "  .colab-df-quickchart {\n",
              "      --bg-color: #E8F0FE;\n",
              "      --fill-color: #1967D2;\n",
              "      --hover-bg-color: #E2EBFA;\n",
              "      --hover-fill-color: #174EA6;\n",
              "      --disabled-fill-color: #AAA;\n",
              "      --disabled-bg-color: #DDD;\n",
              "  }\n",
              "\n",
              "  [theme=dark] .colab-df-quickchart {\n",
              "      --bg-color: #3B4455;\n",
              "      --fill-color: #D2E3FC;\n",
              "      --hover-bg-color: #434B5C;\n",
              "      --hover-fill-color: #FFFFFF;\n",
              "      --disabled-bg-color: #3B4455;\n",
              "      --disabled-fill-color: #666;\n",
              "  }\n",
              "\n",
              "  .colab-df-quickchart {\n",
              "    background-color: var(--bg-color);\n",
              "    border: none;\n",
              "    border-radius: 50%;\n",
              "    cursor: pointer;\n",
              "    display: none;\n",
              "    fill: var(--fill-color);\n",
              "    height: 32px;\n",
              "    padding: 0;\n",
              "    width: 32px;\n",
              "  }\n",
              "\n",
              "  .colab-df-quickchart:hover {\n",
              "    background-color: var(--hover-bg-color);\n",
              "    box-shadow: 0 1px 2px rgba(60, 64, 67, 0.3), 0 1px 3px 1px rgba(60, 64, 67, 0.15);\n",
              "    fill: var(--button-hover-fill-color);\n",
              "  }\n",
              "\n",
              "  .colab-df-quickchart-complete:disabled,\n",
              "  .colab-df-quickchart-complete:disabled:hover {\n",
              "    background-color: var(--disabled-bg-color);\n",
              "    fill: var(--disabled-fill-color);\n",
              "    box-shadow: none;\n",
              "  }\n",
              "\n",
              "  .colab-df-spinner {\n",
              "    border: 2px solid var(--fill-color);\n",
              "    border-color: transparent;\n",
              "    border-bottom-color: var(--fill-color);\n",
              "    animation:\n",
              "      spin 1s steps(1) infinite;\n",
              "  }\n",
              "\n",
              "  @keyframes spin {\n",
              "    0% {\n",
              "      border-color: transparent;\n",
              "      border-bottom-color: var(--fill-color);\n",
              "      border-left-color: var(--fill-color);\n",
              "    }\n",
              "    20% {\n",
              "      border-color: transparent;\n",
              "      border-left-color: var(--fill-color);\n",
              "      border-top-color: var(--fill-color);\n",
              "    }\n",
              "    30% {\n",
              "      border-color: transparent;\n",
              "      border-left-color: var(--fill-color);\n",
              "      border-top-color: var(--fill-color);\n",
              "      border-right-color: var(--fill-color);\n",
              "    }\n",
              "    40% {\n",
              "      border-color: transparent;\n",
              "      border-right-color: var(--fill-color);\n",
              "      border-top-color: var(--fill-color);\n",
              "    }\n",
              "    60% {\n",
              "      border-color: transparent;\n",
              "      border-right-color: var(--fill-color);\n",
              "    }\n",
              "    80% {\n",
              "      border-color: transparent;\n",
              "      border-right-color: var(--fill-color);\n",
              "      border-bottom-color: var(--fill-color);\n",
              "    }\n",
              "    90% {\n",
              "      border-color: transparent;\n",
              "      border-bottom-color: var(--fill-color);\n",
              "    }\n",
              "  }\n",
              "</style>\n",
              "\n",
              "  <script>\n",
              "    async function quickchart(key) {\n",
              "      const quickchartButtonEl =\n",
              "        document.querySelector('#' + key + ' button');\n",
              "      quickchartButtonEl.disabled = true;  // To prevent multiple clicks.\n",
              "      quickchartButtonEl.classList.add('colab-df-spinner');\n",
              "      try {\n",
              "        const charts = await google.colab.kernel.invokeFunction(\n",
              "            'suggestCharts', [key], {});\n",
              "      } catch (error) {\n",
              "        console.error('Error during call to suggestCharts:', error);\n",
              "      }\n",
              "      quickchartButtonEl.classList.remove('colab-df-spinner');\n",
              "      quickchartButtonEl.classList.add('colab-df-quickchart-complete');\n",
              "    }\n",
              "    (() => {\n",
              "      let quickchartButtonEl =\n",
              "        document.querySelector('#df-1eef1619-46e5-46c8-bd48-0c8bc1ae21e7 button');\n",
              "      quickchartButtonEl.style.display =\n",
              "        google.colab.kernel.accessAllowed ? 'block' : 'none';\n",
              "    })();\n",
              "  </script>\n",
              "</div>\n",
              "\n",
              "    </div>\n",
              "  </div>\n"
            ]
          },
          "metadata": {},
          "execution_count": 100
        }
      ]
    },
    {
      "cell_type": "markdown",
      "source": [
        "# Machine learning"
      ],
      "metadata": {
        "id": "xObj40aCQIYH"
      }
    },
    {
      "cell_type": "markdown",
      "source": [
        "##Train model##"
      ],
      "metadata": {
        "id": "nASMYxgjtnSx"
      }
    },
    {
      "cell_type": "code",
      "source": [
        "X = df_combined.drop('Condition', axis = 1)\n",
        "y = df_combined.Condition"
      ],
      "metadata": {
        "id": "dT5m-Uu9wvyl"
      },
      "execution_count": null,
      "outputs": []
    },
    {
      "cell_type": "code",
      "source": [
        "X_train, X_test, y_train, y_test = train_test_split(X, y, test_size = .2, random_state = 1)"
      ],
      "metadata": {
        "id": "6_bZlyG0w0bh"
      },
      "execution_count": null,
      "outputs": []
    },
    {
      "cell_type": "code",
      "source": [
        "## Phân tích giá trị của k theo chỉ số accuracy\n",
        "list_k   = []\n",
        "list_acc = []\n",
        "\n",
        "for k in range(2, int(pow(X_train.shape[0], 1/2) / 2) + 2):\n",
        "    list_k.append(k)\n",
        "\n",
        "    neigh = KNeighborsClassifier(n_neighbors = k)\n",
        "    neigh.fit(X_train, y_train)\n",
        "\n",
        "    y_pred   = neigh.predict(X_test)\n",
        "    acc      = accuracy_score(y_test, y_pred)\n",
        "    list_acc.append(acc)\n",
        "    print(f'k = {k:d} --> accuracy ~ {acc * 100:.1f}%')"
      ],
      "metadata": {
        "colab": {
          "base_uri": "https://localhost:8080/"
        },
        "id": "-upfaQqWmtmE",
        "outputId": "7276ae93-7689-4b72-899b-84e9966697df"
      },
      "execution_count": null,
      "outputs": [
        {
          "output_type": "stream",
          "name": "stdout",
          "text": [
            "k = 2 --> accuracy ~ 67.1%\n",
            "k = 3 --> accuracy ~ 76.4%\n",
            "k = 4 --> accuracy ~ 78.4%\n",
            "k = 5 --> accuracy ~ 79.5%\n",
            "k = 6 --> accuracy ~ 79.8%\n",
            "k = 7 --> accuracy ~ 80.5%\n",
            "k = 8 --> accuracy ~ 81.8%\n",
            "k = 9 --> accuracy ~ 81.5%\n",
            "k = 10 --> accuracy ~ 81.8%\n",
            "k = 11 --> accuracy ~ 81.8%\n",
            "k = 12 --> accuracy ~ 82.2%\n",
            "k = 13 --> accuracy ~ 82.5%\n",
            "k = 14 --> accuracy ~ 82.9%\n",
            "k = 15 --> accuracy ~ 83.2%\n",
            "k = 16 --> accuracy ~ 83.2%\n",
            "k = 17 --> accuracy ~ 83.2%\n",
            "k = 18 --> accuracy ~ 83.6%\n"
          ]
        }
      ]
    },
    {
      "cell_type": "code",
      "source": [
        "## Phân tích giá trị của k theo chỉ số f1\n",
        "list_k   = []\n",
        "list_f1 = []\n",
        "\n",
        "for k in range(2, int(pow(X_train.shape[0], 1/2) / 2) + 2):\n",
        "    list_k.append(k)\n",
        "\n",
        "    neigh = KNeighborsClassifier(n_neighbors = k)\n",
        "    neigh.fit(X_train, y_train)\n",
        "\n",
        "    y_pred   = neigh.predict(X_test)\n",
        "    f1      = f1_score(y_test, y_pred, average='micro')\n",
        "    list_acc.append(f1)\n",
        "    print(f'k = {k:d} --> f1 ~ {f1 * 100:.1f}%')"
      ],
      "metadata": {
        "colab": {
          "base_uri": "https://localhost:8080/"
        },
        "id": "9ZvWako1rLih",
        "outputId": "b7b922b0-4b2e-4fc5-8284-d593b125caa9"
      },
      "execution_count": null,
      "outputs": [
        {
          "output_type": "stream",
          "name": "stdout",
          "text": [
            "k = 2 --> f1 ~ 67.1%\n",
            "k = 3 --> f1 ~ 76.4%\n",
            "k = 4 --> f1 ~ 78.4%\n",
            "k = 5 --> f1 ~ 79.5%\n",
            "k = 6 --> f1 ~ 79.8%\n",
            "k = 7 --> f1 ~ 80.5%\n",
            "k = 8 --> f1 ~ 81.8%\n",
            "k = 9 --> f1 ~ 81.5%\n",
            "k = 10 --> f1 ~ 81.8%\n",
            "k = 11 --> f1 ~ 81.8%\n",
            "k = 12 --> f1 ~ 82.2%\n",
            "k = 13 --> f1 ~ 82.5%\n",
            "k = 14 --> f1 ~ 82.9%\n",
            "k = 15 --> f1 ~ 83.2%\n",
            "k = 16 --> f1 ~ 83.2%\n",
            "k = 17 --> f1 ~ 83.2%\n",
            "k = 18 --> f1 ~ 83.6%\n"
          ]
        }
      ]
    },
    {
      "cell_type": "markdown",
      "source": [
        "**Ta thấy chọn k = 18 là phương án tốt nhất**"
      ],
      "metadata": {
        "id": "rDo3CHMurqoy"
      }
    },
    {
      "cell_type": "code",
      "source": [
        "k   = 18\n",
        "knn = KNeighborsClassifier(n_neighbors = k)\n",
        "knn.fit(X_train, y_train)"
      ],
      "metadata": {
        "id": "jxcP52HRw2i8",
        "colab": {
          "base_uri": "https://localhost:8080/",
          "height": 74
        },
        "outputId": "0f0525b8-92be-40d7-fdf5-25f4cb0864cf"
      },
      "execution_count": null,
      "outputs": [
        {
          "output_type": "execute_result",
          "data": {
            "text/plain": [
              "KNeighborsClassifier(n_neighbors=18)"
            ],
            "text/html": [
              "<style>#sk-container-id-6 {color: black;background-color: white;}#sk-container-id-6 pre{padding: 0;}#sk-container-id-6 div.sk-toggleable {background-color: white;}#sk-container-id-6 label.sk-toggleable__label {cursor: pointer;display: block;width: 100%;margin-bottom: 0;padding: 0.3em;box-sizing: border-box;text-align: center;}#sk-container-id-6 label.sk-toggleable__label-arrow:before {content: \"▸\";float: left;margin-right: 0.25em;color: #696969;}#sk-container-id-6 label.sk-toggleable__label-arrow:hover:before {color: black;}#sk-container-id-6 div.sk-estimator:hover label.sk-toggleable__label-arrow:before {color: black;}#sk-container-id-6 div.sk-toggleable__content {max-height: 0;max-width: 0;overflow: hidden;text-align: left;background-color: #f0f8ff;}#sk-container-id-6 div.sk-toggleable__content pre {margin: 0.2em;color: black;border-radius: 0.25em;background-color: #f0f8ff;}#sk-container-id-6 input.sk-toggleable__control:checked~div.sk-toggleable__content {max-height: 200px;max-width: 100%;overflow: auto;}#sk-container-id-6 input.sk-toggleable__control:checked~label.sk-toggleable__label-arrow:before {content: \"▾\";}#sk-container-id-6 div.sk-estimator input.sk-toggleable__control:checked~label.sk-toggleable__label {background-color: #d4ebff;}#sk-container-id-6 div.sk-label input.sk-toggleable__control:checked~label.sk-toggleable__label {background-color: #d4ebff;}#sk-container-id-6 input.sk-hidden--visually {border: 0;clip: rect(1px 1px 1px 1px);clip: rect(1px, 1px, 1px, 1px);height: 1px;margin: -1px;overflow: hidden;padding: 0;position: absolute;width: 1px;}#sk-container-id-6 div.sk-estimator {font-family: monospace;background-color: #f0f8ff;border: 1px dotted black;border-radius: 0.25em;box-sizing: border-box;margin-bottom: 0.5em;}#sk-container-id-6 div.sk-estimator:hover {background-color: #d4ebff;}#sk-container-id-6 div.sk-parallel-item::after {content: \"\";width: 100%;border-bottom: 1px solid gray;flex-grow: 1;}#sk-container-id-6 div.sk-label:hover label.sk-toggleable__label {background-color: #d4ebff;}#sk-container-id-6 div.sk-serial::before {content: \"\";position: absolute;border-left: 1px solid gray;box-sizing: border-box;top: 0;bottom: 0;left: 50%;z-index: 0;}#sk-container-id-6 div.sk-serial {display: flex;flex-direction: column;align-items: center;background-color: white;padding-right: 0.2em;padding-left: 0.2em;position: relative;}#sk-container-id-6 div.sk-item {position: relative;z-index: 1;}#sk-container-id-6 div.sk-parallel {display: flex;align-items: stretch;justify-content: center;background-color: white;position: relative;}#sk-container-id-6 div.sk-item::before, #sk-container-id-6 div.sk-parallel-item::before {content: \"\";position: absolute;border-left: 1px solid gray;box-sizing: border-box;top: 0;bottom: 0;left: 50%;z-index: -1;}#sk-container-id-6 div.sk-parallel-item {display: flex;flex-direction: column;z-index: 1;position: relative;background-color: white;}#sk-container-id-6 div.sk-parallel-item:first-child::after {align-self: flex-end;width: 50%;}#sk-container-id-6 div.sk-parallel-item:last-child::after {align-self: flex-start;width: 50%;}#sk-container-id-6 div.sk-parallel-item:only-child::after {width: 0;}#sk-container-id-6 div.sk-dashed-wrapped {border: 1px dashed gray;margin: 0 0.4em 0.5em 0.4em;box-sizing: border-box;padding-bottom: 0.4em;background-color: white;}#sk-container-id-6 div.sk-label label {font-family: monospace;font-weight: bold;display: inline-block;line-height: 1.2em;}#sk-container-id-6 div.sk-label-container {text-align: center;}#sk-container-id-6 div.sk-container {/* jupyter's `normalize.less` sets `[hidden] { display: none; }` but bootstrap.min.css set `[hidden] { display: none !important; }` so we also need the `!important` here to be able to override the default hidden behavior on the sphinx rendered scikit-learn.org. See: https://github.com/scikit-learn/scikit-learn/issues/21755 */display: inline-block !important;position: relative;}#sk-container-id-6 div.sk-text-repr-fallback {display: none;}</style><div id=\"sk-container-id-6\" class=\"sk-top-container\"><div class=\"sk-text-repr-fallback\"><pre>KNeighborsClassifier(n_neighbors=18)</pre><b>In a Jupyter environment, please rerun this cell to show the HTML representation or trust the notebook. <br />On GitHub, the HTML representation is unable to render, please try loading this page with nbviewer.org.</b></div><div class=\"sk-container\" hidden><div class=\"sk-item\"><div class=\"sk-estimator sk-toggleable\"><input class=\"sk-toggleable__control sk-hidden--visually\" id=\"sk-estimator-id-6\" type=\"checkbox\" checked><label for=\"sk-estimator-id-6\" class=\"sk-toggleable__label sk-toggleable__label-arrow\">KNeighborsClassifier</label><div class=\"sk-toggleable__content\"><pre>KNeighborsClassifier(n_neighbors=18)</pre></div></div></div></div></div>"
            ]
          },
          "metadata": {},
          "execution_count": 105
        }
      ]
    },
    {
      "cell_type": "code",
      "source": [
        "jlb.dump(knn, 'House_Condition_Predict.pkl')"
      ],
      "metadata": {
        "id": "3faHpkyzyda9",
        "colab": {
          "base_uri": "https://localhost:8080/"
        },
        "outputId": "7b907a9f-e066-45e8-a619-f3efd7d15351"
      },
      "execution_count": null,
      "outputs": [
        {
          "output_type": "execute_result",
          "data": {
            "text/plain": [
              "['House_Condition_Predict.pkl']"
            ]
          },
          "metadata": {},
          "execution_count": 106
        }
      ]
    },
    {
      "cell_type": "code",
      "source": [
        "y_pred = knn.predict(X_test)"
      ],
      "metadata": {
        "id": "Qul_s83CyhDq"
      },
      "execution_count": null,
      "outputs": []
    },
    {
      "cell_type": "markdown",
      "source": [
        "##Evaluating##"
      ],
      "metadata": {
        "id": "Ydev1fMctjJi"
      }
    },
    {
      "cell_type": "code",
      "source": [
        "def classification_eval(y_test, y_pred):\n",
        "    accuracy  = accuracy_score(y_test, y_pred)\n",
        "    precision = precision_score(y_test, y_pred, average='micro')\n",
        "    recall    = recall_score(y_test, y_pred, average='micro')\n",
        "    f1        = f1_score(y_test, y_pred, average='micro')\n",
        "    return accuracy, precision, recall, f1"
      ],
      "metadata": {
        "id": "Qli1YpStypZs"
      },
      "execution_count": null,
      "outputs": []
    },
    {
      "cell_type": "code",
      "source": [
        "scores = classification_eval(y_test, y_pred)\n",
        "y_proba = knn.predict_proba(X_test)\n",
        "auc = roc_auc_score(y_test, y_proba, multi_class='ovr')\n",
        "\n",
        "## Hiển thị giá trị cá chỉ số\n",
        "print(f'Accuracy   = {(scores[0] * 100):.1f}%')\n",
        "print(f'Precision = {(scores[1] * 100):.1f}%')\n",
        "print(f'Recall    = {(scores[2] * 100):.1f}%')\n",
        "print(f'F1        = {(scores[3] * 100):.1f}%')\n",
        "print(f'AUC       = {(auc * 100):.1f}%')"
      ],
      "metadata": {
        "id": "t4okB1i9yr6d",
        "colab": {
          "base_uri": "https://localhost:8080/"
        },
        "outputId": "92c37885-1cf4-4ebf-a9aa-76167007ba8a"
      },
      "execution_count": null,
      "outputs": [
        {
          "output_type": "stream",
          "name": "stdout",
          "text": [
            "Accuracy   = 83.6%\n",
            "Precision = 83.6%\n",
            "Recall    = 83.6%\n",
            "F1        = 83.6%\n",
            "AUC       = 62.7%\n"
          ]
        }
      ]
    },
    {
      "cell_type": "markdown",
      "source": [
        "**Ta thấy được các chỉ số accuracy, precision, recall, f1 đều đạt mức khá cao cho thấy mô hình có độ chính xác tốt.**\n",
        "\n",
        "**Với chỉ số AUC do đường cong ROC thường hiệu quả hơn với phân lớp nhị phân do vậy trong trường hợp này chỉ số này thấp hơn nhiều so với các chỉ số còn lại**"
      ],
      "metadata": {
        "id": "H6mtBt3GwS4X"
      }
    },
    {
      "cell_type": "code",
      "source": [
        "cv_scores = cross_val_score(knn, X, y, scoring = 'accuracy', cv = 10)  # Áp dụng 10-fold cross-validation\n",
        "# In ra độ chính xác trung bình và độ lệch chuẩn của các lần cross-validation\n",
        "print(f\"Accuracy dao động trong khoảng: {round(np.min(cv_scores) * 100,2)}% - {round(np.max(cv_scores) * 100,2)}%\")\n",
        "print(f\"Accuracy trung bình: {round(np.mean(cv_scores)*100,2)}%\")\n",
        "print(f\"Độ lệch chuẩn của Accuracy: {round(np.std(cv_scores),2)}\")"
      ],
      "metadata": {
        "colab": {
          "base_uri": "https://localhost:8080/"
        },
        "id": "zA75jE7Koyxb",
        "outputId": "8096c78e-7c5d-416a-fb10-b647916de19e"
      },
      "execution_count": null,
      "outputs": [
        {
          "output_type": "stream",
          "name": "stdout",
          "text": [
            "Accuracy dao động trong khoảng: 80.82% - 84.93%\n",
            "Accuracy trung bình: 82.53%\n",
            "Độ lệch chuẩn của Accuracy: 0.01\n"
          ]
        }
      ]
    },
    {
      "cell_type": "markdown",
      "source": [
        "**Sử dụng phương pháp k-fold cross validation với k = 10 ta thấy được mô hình có tính chính xác tốt, duy trì điểm chỉ số accuracy không biến thiên quá mạnh giữa các fold**\n"
      ],
      "metadata": {
        "id": "6MxtvTV-zAI2"
      }
    }
  ]
}